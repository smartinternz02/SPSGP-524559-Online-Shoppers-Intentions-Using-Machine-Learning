{
 "cells": [
  {
   "cell_type": "code",
   "execution_count": 1,
   "id": "1ff9d41f",
   "metadata": {},
   "outputs": [
    {
     "name": "stdout",
     "output_type": "stream",
     "text": [
      "Name:DINESH KUMAR.S \n",
      "Age: 20\n"
     ]
    }
   ],
   "source": [
    "\"\"\"Assign your Name to variable name and Age to variable age. Make a Python\n",
    "program that prints your name and age.\"\"\"\n",
    "name=\"DINESH KUMAR.S\"\n",
    "age=\"20\"\n",
    "print(\"Name:{0} \".format(name))\n",
    "print(\"Age: {0}\".format(age))"
   ]
  },
  {
   "cell_type": "code",
   "execution_count": 2,
   "id": "2cab9410",
   "metadata": {},
   "outputs": [
    {
     "name": "stdout",
     "output_type": "stream",
     "text": [
      "['Datascience', 'is', 'used', 'to', 'extract', 'meaningful', 'insights.']\n"
     ]
    }
   ],
   "source": [
    "\"\"\"2. X=\"Datascience is used to extract meaningful insights.\" Split the string\"\"\"\n",
    "X=\"Datascience is used to extract meaningful insights.\"\n",
    "q2=X.split()\n",
    "print(q2)"
   ]
  },
  {
   "cell_type": "code",
   "execution_count": 3,
   "id": "1f26530a",
   "metadata": {},
   "outputs": [
    {
     "name": "stdout",
     "output_type": "stream",
     "text": [
      "Number 1:5\n",
      "Number 2:5\n",
      "The product of the the numbers 5 and 5 is 25\n"
     ]
    }
   ],
   "source": [
    "\"\"\"3. Make a function that gives multiplication of two numbers\"\"\"\n",
    "def prod(para1,para2):\n",
    " ans=para1*para2\n",
    " return ans\n",
    "var1=int(input(\"Number 1:\"))\n",
    "var2=int(input(\"Number 2:\"))\n",
    "ans=prod(var1,var2)\n",
    "print(\"The product of the the numbers {0} and {1} is {2}\".format(var1,var2,ans))"
   ]
  },
  {
   "cell_type": "code",
   "execution_count": 4,
   "id": "528d590c",
   "metadata": {},
   "outputs": [
    {
     "name": "stdout",
     "output_type": "stream",
     "text": [
      "Dictionary keys: dict_keys(['Tamil Nadu', 'Kerala', 'Karnataka', 'Maharashtra', 'Uttar Pradesh'])\n",
      "Dictionary values: dict_values(['Chennai', 'Thiruvananthapuram', 'Bangalore', 'Mumbai', 'Lucknow'])\n"
     ]
    }
   ],
   "source": [
    "\"\"\"4. Create a Dictionary of 5 States with their capitals. also print the keys and values.\"\"\"\n",
    "indstates={\"Tamil Nadu\":\"Chennai\",\"Kerala\":\"Thiruvananthapuram\",\"Karnataka\":\"Bangalore\",\n",
    " \"Maharashtra\":\"Mumbai\",\"Uttar Pradesh\":\"Lucknow\"}\n",
    "q4a=indstates.keys()\n",
    "q4b=indstates.values()\n",
    "print(\"Dictionary keys: {0}\".format(q4a))\n",
    "print(\"Dictionary values: {0}\".format(q4b))"
   ]
  },
  {
   "cell_type": "code",
   "execution_count": 5,
   "id": "72bb1b71",
   "metadata": {},
   "outputs": [
    {
     "name": "stdout",
     "output_type": "stream",
     "text": [
      "[0, 1, 2, 3, 4, 5, 6, 7, 8, 9, 10, 11, 12, 13, 14, 15, 16, 17, 18, 19, 20, 21, 22, 23, 24, 25, 26, 27, 28, 29, 30, 31, 32, 33, 34, 35, 36, 37, 38, 39, 40, 41, 42, 43, 44, 45, 46, 47, 48, 49, 50, 51, 52, 53, 54, 55, 56, 57, 58, 59, 60, 61, 62, 63, 64, 65, 66, 67, 68, 69, 70, 71, 72, 73, 74, 75, 76, 77, 78, 79, 80, 81, 82, 83, 84, 85, 86, 87, 88, 89, 90, 91, 92, 93, 94, 95, 96, 97, 98, 99, 100, 101, 102, 103, 104, 105, 106, 107, 108, 109, 110, 111, 112, 113, 114, 115, 116, 117, 118, 119, 120, 121, 122, 123, 124, 125, 126, 127, 128, 129, 130, 131, 132, 133, 134, 135, 136, 137, 138, 139, 140, 141, 142, 143, 144, 145, 146, 147, 148, 149, 150, 151, 152, 153, 154, 155, 156, 157, 158, 159, 160, 161, 162, 163, 164, 165, 166, 167, 168, 169, 170, 171, 172, 173, 174, 175, 176, 177, 178, 179, 180, 181, 182, 183, 184, 185, 186, 187, 188, 189, 190, 191, 192, 193, 194, 195, 196, 197, 198, 199, 200, 201, 202, 203, 204, 205, 206, 207, 208, 209, 210, 211, 212, 213, 214, 215, 216, 217, 218, 219, 220, 221, 222, 223, 224, 225, 226, 227, 228, 229, 230, 231, 232, 233, 234, 235, 236, 237, 238, 239, 240, 241, 242, 243, 244, 245, 246, 247, 248, 249, 250, 251, 252, 253, 254, 255, 256, 257, 258, 259, 260, 261, 262, 263, 264, 265, 266, 267, 268, 269, 270, 271, 272, 273, 274, 275, 276, 277, 278, 279, 280, 281, 282, 283, 284, 285, 286, 287, 288, 289, 290, 291, 292, 293, 294, 295, 296, 297, 298, 299, 300, 301, 302, 303, 304, 305, 306, 307, 308, 309, 310, 311, 312, 313, 314, 315, 316, 317, 318, 319, 320, 321, 322, 323, 324, 325, 326, 327, 328, 329, 330, 331, 332, 333, 334, 335, 336, 337, 338, 339, 340, 341, 342, 343, 344, 345, 346, 347, 348, 349, 350, 351, 352, 353, 354, 355, 356, 357, 358, 359, 360, 361, 362, 363, 364, 365, 366, 367, 368, 369, 370, 371, 372, 373, 374, 375, 376, 377, 378, 379, 380, 381, 382, 383, 384, 385, 386, 387, 388, 389, 390, 391, 392, 393, 394, 395, 396, 397, 398, 399, 400, 401, 402, 403, 404, 405, 406, 407, 408, 409, 410, 411, 412, 413, 414, 415, 416, 417, 418, 419, 420, 421, 422, 423, 424, 425, 426, 427, 428, 429, 430, 431, 432, 433, 434, 435, 436, 437, 438, 439, 440, 441, 442, 443, 444, 445, 446, 447, 448, 449, 450, 451, 452, 453, 454, 455, 456, 457, 458, 459, 460, 461, 462, 463, 464, 465, 466, 467, 468, 469, 470, 471, 472, 473, 474, 475, 476, 477, 478, 479, 480, 481, 482, 483, 484, 485, 486, 487, 488, 489, 490, 491, 492, 493, 494, 495, 496, 497, 498, 499, 500, 501, 502, 503, 504, 505, 506, 507, 508, 509, 510, 511, 512, 513, 514, 515, 516, 517, 518, 519, 520, 521, 522, 523, 524, 525, 526, 527, 528, 529, 530, 531, 532, 533, 534, 535, 536, 537, 538, 539, 540, 541, 542, 543, 544, 545, 546, 547, 548, 549, 550, 551, 552, 553, 554, 555, 556, 557, 558, 559, 560, 561, 562, 563, 564, 565, 566, 567, 568, 569, 570, 571, 572, 573, 574, 575, 576, 577, 578, 579, 580, 581, 582, 583, 584, 585, 586, 587, 588, 589, 590, 591, 592, 593, 594, 595, 596, 597, 598, 599, 600, 601, 602, 603, 604, 605, 606, 607, 608, 609, 610, 611, 612, 613, 614, 615, 616, 617, 618, 619, 620, 621, 622, 623, 624, 625, 626, 627, 628, 629, 630, 631, 632, 633, 634, 635, 636, 637, 638, 639, 640, 641, 642, 643, 644, 645, 646, 647, 648, 649, 650, 651, 652, 653, 654, 655, 656, 657, 658, 659, 660, 661, 662, 663, 664, 665, 666, 667, 668, 669, 670, 671, 672, 673, 674, 675, 676, 677, 678, 679, 680, 681, 682, 683, 684, 685, 686, 687, 688, 689, 690, 691, 692, 693, 694, 695, 696, 697, 698, 699, 700, 701, 702, 703, 704, 705, 706, 707, 708, 709, 710, 711, 712, 713, 714, 715, 716, 717, 718, 719, 720, 721, 722, 723, 724, 725, 726, 727, 728, 729, 730, 731, 732, 733, 734, 735, 736, 737, 738, 739, 740, 741, 742, 743, 744, 745, 746, 747, 748, 749, 750, 751, 752, 753, 754, 755, 756, 757, 758, 759, 760, 761, 762, 763, 764, 765, 766, 767, 768, 769, 770, 771, 772, 773, 774, 775, 776, 777, 778, 779, 780, 781, 782, 783, 784, 785, 786, 787, 788, 789, 790, 791, 792, 793, 794, 795, 796, 797, 798, 799, 800, 801, 802, 803, 804, 805, 806, 807, 808, 809, 810, 811, 812, 813, 814, 815, 816, 817, 818, 819, 820, 821, 822, 823, 824, 825, 826, 827, 828, 829, 830, 831, 832, 833, 834, 835, 836, 837, 838, 839, 840, 841, 842, 843, 844, 845, 846, 847, 848, 849, 850, 851, 852, 853, 854, 855, 856, 857, 858, 859, 860, 861, 862, 863, 864, 865, 866, 867, 868, 869, 870, 871, 872, 873, 874, 875, 876, 877, 878, 879, 880, 881, 882, 883, 884, 885, 886, 887, 888, 889, 890, 891, 892, 893, 894, 895, 896, 897, 898, 899, 900, 901, 902, 903, 904, 905, 906, 907, 908, 909, 910, 911, 912, 913, 914, 915, 916, 917, 918, 919, 920, 921, 922, 923, 924, 925, 926, 927, 928, 929, 930, 931, 932, 933, 934, 935, 936, 937, 938, 939, 940, 941, 942, 943, 944, 945, 946, 947, 948, 949, 950, 951, 952, 953, 954, 955, 956, 957, 958, 959, 960, 961, 962, 963, 964, 965, 966, 967, 968, 969, 970, 971, 972, 973, 974, 975, 976, 977, 978, 979, 980, 981, 982, 983, 984, 985, 986, 987, 988, 989, 990, 991, 992, 993, 994, 995, 996, 997, 998, 999, 1000]\n"
     ]
    }
   ],
   "source": [
    "\"\"\"5. Create a list of 1000 numbers using range function.\"\"\"\n",
    "q5=[x for x in range(0,1001)]\n",
    "print(q5)"
   ]
  },
  {
   "cell_type": "code",
   "execution_count": 6,
   "id": "3c3e3948",
   "metadata": {},
   "outputs": [
    {
     "name": "stdout",
     "output_type": "stream",
     "text": [
      "identity matrix [[1. 0. 0. 0.]\n",
      " [0. 1. 0. 0.]\n",
      " [0. 0. 1. 0.]\n",
      " [0. 0. 0. 1.]]:\n",
      "\n"
     ]
    }
   ],
   "source": [
    "\"\"\"6. Create an identity matrix of dimension 4 by 4\"\"\"\n",
    "import numpy as np\n",
    "q6=np.identity(4)\n",
    "print(\"identity matrix {0}:\\n\".format(q6))"
   ]
  },
  {
   "cell_type": "code",
   "execution_count": 7,
   "id": "fceba93d",
   "metadata": {},
   "outputs": [
    {
     "name": "stdout",
     "output_type": "stream",
     "text": [
      "[[1 2 3]\n",
      " [4 5 6]\n",
      " [7 8 9]]\n"
     ]
    }
   ],
   "source": [
    "\"\"\"7. Create a 3x3 matrix with values ranging from 1 to 9\"\"\"\n",
    "q7a=np.arange(1,10)\n",
    "q7b=q7a.reshape(3,3)\n",
    "print(q7b)"
   ]
  },
  {
   "cell_type": "code",
   "execution_count": 8,
   "id": "5ee44089",
   "metadata": {},
   "outputs": [
    {
     "name": "stdout",
     "output_type": "stream",
     "text": [
      "array 1\n",
      "[[ 5  6  7]\n",
      " [ 8  9 10]\n",
      " [11 12 13]]\n",
      "array 2\n",
      "[[ 6  7  8]\n",
      " [ 9 10 11]\n",
      " [12 13 14]]\n",
      "summed array\n",
      "[[11 13 15]\n",
      " [17 19 21]\n",
      " [23 25 27]]\n"
     ]
    }
   ],
   "source": [
    "\"\"\"8. Create 2 similar dimensional array and perform sum on them.\"\"\"\n",
    "q8a=np.arange(5,14).reshape(3,3)\n",
    "q8b=np.arange(6,15).reshape(3,3)\n",
    "print(\"array 1\")\n",
    "print(q8a)\n",
    "print(\"array 2\")\n",
    "print(q8b)\n",
    "q8c=q8a+q8b\n",
    "print(\"summed array\")\n",
    "print(q8c)"
   ]
  },
  {
   "cell_type": "code",
   "execution_count": 9,
   "id": "3e21fbc8",
   "metadata": {},
   "outputs": [
    {
     "name": "stdout",
     "output_type": "stream",
     "text": [
      "0     01-02-2023\n",
      "1     02-02-2023\n",
      "2     03-02-2023\n",
      "3     04-02-2023\n",
      "4     05-02-2023\n",
      "5     06-02-2023\n",
      "6     07-02-2023\n",
      "7     08-02-2023\n",
      "8     09-02-2023\n",
      "9     10-02-2023\n",
      "10    11-02-2023\n",
      "11    12-02-2023\n",
      "12    13-02-2023\n",
      "13    14-02-2023\n",
      "14    15-02-2023\n",
      "15    16-02-2023\n",
      "16    17-02-2023\n",
      "17    18-02-2023\n",
      "18    19-02-2023\n",
      "19    20-02-2023\n",
      "20    21-02-2023\n",
      "21    22-02-2023\n",
      "22    23-02-2023\n",
      "23    24-02-2023\n",
      "24    25-02-2023\n",
      "25    26-02-2023\n",
      "26    27-02-2023\n",
      "27    28-02-2023\n",
      "28    01-03-2023\n",
      "dtype: object\n"
     ]
    }
   ],
   "source": [
    "\"\"\"9. Generate the series of dates from 1st Feb, 2023 to 1st March, 2023 (both\n",
    "inclusive)\"\"\"\n",
    "import pandas as pd\n",
    "from datetime import datetime, timedelta\n",
    "q9a=datetime(2023,2,1)\n",
    "q9b=datetime(2023,3,1)\n",
    "q9list=[]\n",
    "while q9a<=q9b:\n",
    " q9list.append(q9a.strftime('%d-%m-%Y'))\n",
    " q9a+=timedelta(days=1)\n",
    "\n",
    "q9=pd.Series(q9list)\n",
    "print(q9)"
   ]
  },
  {
   "cell_type": "code",
   "execution_count": 10,
   "id": "deac8a6a",
   "metadata": {},
   "outputs": [
    {
     "name": "stdout",
     "output_type": "stream",
     "text": [
      "         Brand  Sales\n",
      "Car 1   Maruti    250\n",
      "Car 2  Renault    200\n",
      "Car 3   Hyndai    240\n"
     ]
    }
   ],
   "source": [
    "\"\"\"10. Given a dictionary, convert it into corresponding dataframe and display it\n",
    "dictionary = {'Brand': ['Maruti', 'Renault', 'Hyndai'], 'Sales' : [250, 200, 240]}\"\"\"\n",
    "dictionary = {'Brand': ['Maruti', 'Renault', 'Hyndai'], 'Sales' : [250, 200, 240]}\n",
    "q10=pd.DataFrame(dictionary,index=[\"Car 1\",\"Car 2\",\"Car 3\"])\n",
    "print(q10)"
   ]
  },
  {
   "cell_type": "code",
   "execution_count": null,
   "id": "cd4b7b83",
   "metadata": {},
   "outputs": [],
   "source": []
  }
 ],
 "metadata": {
  "kernelspec": {
   "display_name": "Python 3 (ipykernel)",
   "language": "python",
   "name": "python3"
  },
  "language_info": {
   "codemirror_mode": {
    "name": "ipython",
    "version": 3
   },
   "file_extension": ".py",
   "mimetype": "text/x-python",
   "name": "python",
   "nbconvert_exporter": "python",
   "pygments_lexer": "ipython3",
   "version": "3.10.9"
  }
 },
 "nbformat": 4,
 "nbformat_minor": 5
}
