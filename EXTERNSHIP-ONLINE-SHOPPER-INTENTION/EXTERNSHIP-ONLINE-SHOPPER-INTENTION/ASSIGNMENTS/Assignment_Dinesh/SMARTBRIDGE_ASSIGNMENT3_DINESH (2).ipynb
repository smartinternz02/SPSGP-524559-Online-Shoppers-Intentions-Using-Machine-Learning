{
 "cells": [
  {
   "cell_type": "markdown",
   "metadata": {
    "id": "TTVwddxmrWyk"
   },
   "source": [
    "# Importing the libraries"
   ]
  },
  {
   "cell_type": "code",
   "execution_count": 1,
   "metadata": {
    "executionInfo": {
     "elapsed": 541,
     "status": "ok",
     "timestamp": 1685977053443,
     "user": {
      "displayName": "Kapil",
      "userId": "17476189774344634490"
     },
     "user_tz": -330
    },
    "id": "DdxJ7nu_qSar"
   },
   "outputs": [],
   "source": [
    "import numpy as np\n",
    "import pandas as pd\n",
    "import matplotlib.pyplot as plt\n",
    "import seaborn as sns\n",
    "from sklearn.preprocessing import StandardScaler,LabelEncoder,OneHotEncoder,MinMaxScaler\n",
    "from sklearn.model_selection import train_test_split"
   ]
  },
  {
   "cell_type": "markdown",
   "metadata": {
    "id": "MgjbxpvSrc0M"
   },
   "source": [
    "# Loading the dataset"
   ]
  },
  {
   "cell_type": "code",
   "execution_count": 2,
   "metadata": {
    "colab": {
     "base_uri": "https://localhost:8080/",
     "height": 0
    },
    "executionInfo": {
     "elapsed": 975,
     "status": "ok",
     "timestamp": 1685977054888,
     "user": {
      "displayName": "Kapil",
      "userId": "17476189774344634490"
     },
     "user_tz": -330
    },
    "id": "w4HOvSbjqyUv",
    "outputId": "59f19efb-4b6a-4817-8f29-e8ce331df1f3"
   },
   "outputs": [
    {
     "data": {
      "text/html": [
       "<div>\n",
       "<style scoped>\n",
       "    .dataframe tbody tr th:only-of-type {\n",
       "        vertical-align: middle;\n",
       "    }\n",
       "\n",
       "    .dataframe tbody tr th {\n",
       "        vertical-align: top;\n",
       "    }\n",
       "\n",
       "    .dataframe thead th {\n",
       "        text-align: right;\n",
       "    }\n",
       "</style>\n",
       "<table border=\"1\" class=\"dataframe\">\n",
       "  <thead>\n",
       "    <tr style=\"text-align: right;\">\n",
       "      <th></th>\n",
       "      <th>price</th>\n",
       "      <th>area</th>\n",
       "      <th>bedrooms</th>\n",
       "      <th>bathrooms</th>\n",
       "      <th>stories</th>\n",
       "      <th>mainroad</th>\n",
       "      <th>guestroom</th>\n",
       "      <th>basement</th>\n",
       "      <th>hotwaterheating</th>\n",
       "      <th>airconditioning</th>\n",
       "      <th>parking</th>\n",
       "      <th>furnishingstatus</th>\n",
       "    </tr>\n",
       "  </thead>\n",
       "  <tbody>\n",
       "    <tr>\n",
       "      <th>0</th>\n",
       "      <td>13300000</td>\n",
       "      <td>7420</td>\n",
       "      <td>4</td>\n",
       "      <td>2</td>\n",
       "      <td>3</td>\n",
       "      <td>yes</td>\n",
       "      <td>no</td>\n",
       "      <td>no</td>\n",
       "      <td>no</td>\n",
       "      <td>yes</td>\n",
       "      <td>2</td>\n",
       "      <td>furnished</td>\n",
       "    </tr>\n",
       "    <tr>\n",
       "      <th>1</th>\n",
       "      <td>12250000</td>\n",
       "      <td>8960</td>\n",
       "      <td>4</td>\n",
       "      <td>4</td>\n",
       "      <td>4</td>\n",
       "      <td>yes</td>\n",
       "      <td>no</td>\n",
       "      <td>no</td>\n",
       "      <td>no</td>\n",
       "      <td>yes</td>\n",
       "      <td>3</td>\n",
       "      <td>furnished</td>\n",
       "    </tr>\n",
       "    <tr>\n",
       "      <th>2</th>\n",
       "      <td>12250000</td>\n",
       "      <td>9960</td>\n",
       "      <td>3</td>\n",
       "      <td>2</td>\n",
       "      <td>2</td>\n",
       "      <td>yes</td>\n",
       "      <td>no</td>\n",
       "      <td>yes</td>\n",
       "      <td>no</td>\n",
       "      <td>no</td>\n",
       "      <td>2</td>\n",
       "      <td>semi-furnished</td>\n",
       "    </tr>\n",
       "    <tr>\n",
       "      <th>3</th>\n",
       "      <td>12215000</td>\n",
       "      <td>7500</td>\n",
       "      <td>4</td>\n",
       "      <td>2</td>\n",
       "      <td>2</td>\n",
       "      <td>yes</td>\n",
       "      <td>no</td>\n",
       "      <td>yes</td>\n",
       "      <td>no</td>\n",
       "      <td>yes</td>\n",
       "      <td>3</td>\n",
       "      <td>furnished</td>\n",
       "    </tr>\n",
       "    <tr>\n",
       "      <th>4</th>\n",
       "      <td>11410000</td>\n",
       "      <td>7420</td>\n",
       "      <td>4</td>\n",
       "      <td>1</td>\n",
       "      <td>2</td>\n",
       "      <td>yes</td>\n",
       "      <td>yes</td>\n",
       "      <td>yes</td>\n",
       "      <td>no</td>\n",
       "      <td>yes</td>\n",
       "      <td>2</td>\n",
       "      <td>furnished</td>\n",
       "    </tr>\n",
       "  </tbody>\n",
       "</table>\n",
       "</div>"
      ],
      "text/plain": [
       "      price  area  bedrooms  bathrooms  stories mainroad guestroom basement  \\\n",
       "0  13300000  7420         4          2        3      yes        no       no   \n",
       "1  12250000  8960         4          4        4      yes        no       no   \n",
       "2  12250000  9960         3          2        2      yes        no      yes   \n",
       "3  12215000  7500         4          2        2      yes        no      yes   \n",
       "4  11410000  7420         4          1        2      yes       yes      yes   \n",
       "\n",
       "  hotwaterheating airconditioning  parking furnishingstatus  \n",
       "0              no             yes        2        furnished  \n",
       "1              no             yes        3        furnished  \n",
       "2              no              no        2   semi-furnished  \n",
       "3              no             yes        3        furnished  \n",
       "4              no             yes        2        furnished  "
      ]
     },
     "execution_count": 2,
     "metadata": {},
     "output_type": "execute_result"
    }
   ],
   "source": [
    "df = pd.read_csv(\"Housing.csv\")\n",
    "df.head()"
   ]
  },
  {
   "cell_type": "code",
   "execution_count": 3,
   "metadata": {
    "colab": {
     "base_uri": "https://localhost:8080/"
    },
    "executionInfo": {
     "elapsed": 17,
     "status": "ok",
     "timestamp": 1685977054889,
     "user": {
      "displayName": "Kapil",
      "userId": "17476189774344634490"
     },
     "user_tz": -330
    },
    "id": "F_c89T3WrIai",
    "outputId": "125b18fa-027c-430f-bfd0-fb4c2efb9b9d"
   },
   "outputs": [
    {
     "data": {
      "text/plain": [
       "(545, 12)"
      ]
     },
     "execution_count": 3,
     "metadata": {},
     "output_type": "execute_result"
    }
   ],
   "source": [
    "df.shape"
   ]
  },
  {
   "cell_type": "code",
   "execution_count": 4,
   "metadata": {
    "colab": {
     "base_uri": "https://localhost:8080/"
    },
    "executionInfo": {
     "elapsed": 15,
     "status": "ok",
     "timestamp": 1685977054889,
     "user": {
      "displayName": "Kapil",
      "userId": "17476189774344634490"
     },
     "user_tz": -330
    },
    "id": "0tvfV95trLx7",
    "outputId": "fee3da17-847a-474c-cf94-cb2890944787"
   },
   "outputs": [
    {
     "name": "stdout",
     "output_type": "stream",
     "text": [
      "<class 'pandas.core.frame.DataFrame'>\n",
      "RangeIndex: 545 entries, 0 to 544\n",
      "Data columns (total 12 columns):\n",
      " #   Column            Non-Null Count  Dtype \n",
      "---  ------            --------------  ----- \n",
      " 0   price             545 non-null    int64 \n",
      " 1   area              545 non-null    int64 \n",
      " 2   bedrooms          545 non-null    int64 \n",
      " 3   bathrooms         545 non-null    int64 \n",
      " 4   stories           545 non-null    int64 \n",
      " 5   mainroad          545 non-null    object\n",
      " 6   guestroom         545 non-null    object\n",
      " 7   basement          545 non-null    object\n",
      " 8   hotwaterheating   545 non-null    object\n",
      " 9   airconditioning   545 non-null    object\n",
      " 10  parking           545 non-null    int64 \n",
      " 11  furnishingstatus  545 non-null    object\n",
      "dtypes: int64(6), object(6)\n",
      "memory usage: 51.2+ KB\n"
     ]
    }
   ],
   "source": [
    "df.info()"
   ]
  },
  {
   "cell_type": "markdown",
   "metadata": {
    "id": "ZsEJxTD3rgH1"
   },
   "source": [
    "# Handling Missing values"
   ]
  },
  {
   "cell_type": "code",
   "execution_count": 5,
   "metadata": {
    "colab": {
     "base_uri": "https://localhost:8080/"
    },
    "executionInfo": {
     "elapsed": 15,
     "status": "ok",
     "timestamp": 1685977054890,
     "user": {
      "displayName": "Kapil",
      "userId": "17476189774344634490"
     },
     "user_tz": -330
    },
    "id": "fwlWQRL6rMef",
    "outputId": "ce6f221d-18a8-4613-940a-cf58e3740430"
   },
   "outputs": [
    {
     "data": {
      "text/plain": [
       "price               0\n",
       "area                0\n",
       "bedrooms            0\n",
       "bathrooms           0\n",
       "stories             0\n",
       "mainroad            0\n",
       "guestroom           0\n",
       "basement            0\n",
       "hotwaterheating     0\n",
       "airconditioning     0\n",
       "parking             0\n",
       "furnishingstatus    0\n",
       "dtype: int64"
      ]
     },
     "execution_count": 5,
     "metadata": {},
     "output_type": "execute_result"
    }
   ],
   "source": [
    "df.isnull().sum()"
   ]
  },
  {
   "cell_type": "code",
   "execution_count": 6,
   "metadata": {
    "executionInfo": {
     "elapsed": 15,
     "status": "ok",
     "timestamp": 1685977054890,
     "user": {
      "displayName": "Kapil",
      "userId": "17476189774344634490"
     },
     "user_tz": -330
    },
    "id": "qpzrK_6DrRc8"
   },
   "outputs": [],
   "source": [
    "# We don't have any missing values"
   ]
  },
  {
   "cell_type": "markdown",
   "metadata": {
    "id": "Ykr3p8bArmpG"
   },
   "source": [
    "# Visualizations"
   ]
  },
  {
   "cell_type": "markdown",
   "metadata": {
    "id": "EVcfxtj4rrr4"
   },
   "source": [
    "\n",
    "\n",
    "> Univariate Analysis\n",
    "\n"
   ]
  },
  {
   "cell_type": "code",
   "execution_count": 7,
   "metadata": {
    "colab": {
     "base_uri": "https://localhost:8080/",
     "height": 0
    },
    "executionInfo": {
     "elapsed": 14,
     "status": "ok",
     "timestamp": 1685977054890,
     "user": {
      "displayName": "Kapil",
      "userId": "17476189774344634490"
     },
     "user_tz": -330
    },
    "id": "1e9iZvrOrwr2",
    "outputId": "99122dbf-2df1-4c95-f764-f34811a580ad"
   },
   "outputs": [
    {
     "name": "stderr",
     "output_type": "stream",
     "text": [
      "C:\\Users\\prash\\AppData\\Local\\Temp\\ipykernel_17432\\719166114.py:1: UserWarning: \n",
      "\n",
      "`distplot` is a deprecated function and will be removed in seaborn v0.14.0.\n",
      "\n",
      "Please adapt your code to use either `displot` (a figure-level function with\n",
      "similar flexibility) or `histplot` (an axes-level function for histograms).\n",
      "\n",
      "For a guide to updating your code to use the new functions, please see\n",
      "https://gist.github.com/mwaskom/de44147ed2974457ad6372750bbe5751\n",
      "\n",
      "  sns.distplot(df['price'])\n"
     ]
    },
    {
     "data": {
      "text/plain": [
       "Text(0.5, 1.0, 'Price Distribution plot')"
      ]
     },
     "execution_count": 7,
     "metadata": {},
     "output_type": "execute_result"
    },
    {
     "data": {
      "image/png": "[encoded data removed]",
      "text/plain": [
       "<Figure size 640x480 with 1 Axes>"
      ]
     },
     "metadata": {},
     "output_type": "display_data"
    }
   ],
   "source": [
    "sns.distplot(df['price'])\n",
    "plt.xlabel(\"Price\")\n",
    "plt.title(\"Price Distribution plot\")"
   ]
  },
  {
   "cell_type": "code",
   "execution_count": 8,
   "metadata": {
    "colab": {
     "base_uri": "https://localhost:8080/",
     "height": 0
    },
    "executionInfo": {
     "elapsed": 14,
     "status": "ok",
     "timestamp": 1685977054891,
     "user": {
      "displayName": "Kapil",
      "userId": "17476189774344634490"
     },
     "user_tz": -330
    },
    "id": "rV9Yg1nVtMku",
    "outputId": "8805d4d0-11e2-446e-e409-e250b1223c08"
   },
   "outputs": [
    {
     "data": {
      "text/plain": [
       "([<matplotlib.patches.Wedge at 0x249062b32b0>,\n",
       "  <matplotlib.patches.Wedge at 0x249062b31c0>],\n",
       " [Text(-0.6022016005293036, 0.9205179152628944, 'AC Houses'),\n",
       "  Text(0.6022016005293035, -0.9205179152628945, 'Non AC Houses')],\n",
       " [Text(-0.32847360028871103, 0.5021006810524877, '68.44%'),\n",
       "  Text(0.3284736002887109, -0.5021006810524878, '31.56%')])"
      ]
     },
     "execution_count": 8,
     "metadata": {},
     "output_type": "execute_result"
    },
    {
     "data": {
      "image/png": "[encoded data removed]",
      "text/plain": [
       "<Figure size 640x480 with 1 Axes>"
      ]
     },
     "metadata": {},
     "output_type": "display_data"
    }
   ],
   "source": [
    "plt.pie(df['airconditioning'].value_counts(),labels=['AC Houses','Non AC Houses'],autopct=\"%.2f%%\")\n",
    "\n",
    "# Nowadays AC is a very much needed thing so probably house with AC has more prices let's check in bar plot"
   ]
  },
  {
   "cell_type": "markdown",
   "metadata": {
    "id": "Umk5zVX7uWOE"
   },
   "source": [
    "\n",
    "\n",
    "> Bivariate Analysis\n",
    "\n"
   ]
  },
  {
   "cell_type": "code",
   "execution_count": 9,
   "metadata": {
    "colab": {
     "base_uri": "https://localhost:8080/",
     "height": 0
    },
    "executionInfo": {
     "elapsed": 708,
     "status": "ok",
     "timestamp": 1685977055586,
     "user": {
      "displayName": "Kapil",
      "userId": "17476189774344634490"
     },
     "user_tz": -330
    },
    "id": "3Q1FQYcVtzzu",
    "outputId": "a13e8b03-b0bd-48e5-fac3-ae2ee9427bc7"
   },
   "outputs": [
    {
     "data": {
      "text/plain": [
       "<BarContainer object of 545 artists>"
      ]
     },
     "execution_count": 9,
     "metadata": {},
     "output_type": "execute_result"
    },
    {
     "data": {
      "image/png": "[encoded data removed]",
      "text/plain": [
       "<Figure size 640x480 with 1 Axes>"
      ]
     },
     "metadata": {},
     "output_type": "display_data"
    }
   ],
   "source": [
    "plt.bar(df['airconditioning'],df['price']) "
   ]
  },
  {
   "cell_type": "code",
   "execution_count": 10,
   "metadata": {
    "colab": {
     "base_uri": "https://localhost:8080/",
     "height": 0
    },
    "executionInfo": {
     "elapsed": 914,
     "status": "ok",
     "timestamp": 1685977056999,
     "user": {
      "displayName": "Kapil",
      "userId": "17476189774344634490"
     },
     "user_tz": -330
    },
    "id": "8SvtH6dIr-Ez",
    "outputId": "a900df4c-e81f-4ffc-dd4c-11306bcde92c"
   },
   "outputs": [
    {
     "data": {
      "text/plain": [
       "<BarContainer object of 545 artists>"
      ]
     },
     "execution_count": 10,
     "metadata": {},
     "output_type": "execute_result"
    },
    {
     "data": {
      "image/png": "[encoded data removed]",
      "text/plain": [
       "<Figure size 640x480 with 1 Axes>"
      ]
     },
     "metadata": {},
     "output_type": "display_data"
    }
   ],
   "source": [
    "plt.bar(df['bedrooms'],df['price']) # Here the highest price is for 4 beds then its decreasing for 6 beds"
   ]
  },
  {
   "cell_type": "code",
   "execution_count": 11,
   "metadata": {
    "colab": {
     "base_uri": "https://localhost:8080/",
     "height": 0
    },
    "executionInfo": {
     "elapsed": 1176,
     "status": "ok",
     "timestamp": 1685977058172,
     "user": {
      "displayName": "Kapil",
      "userId": "17476189774344634490"
     },
     "user_tz": -330
    },
    "id": "ax8Nid0ls4cD",
    "outputId": "9f3a46a9-735d-4fde-d628-7dd0e8c3a397"
   },
   "outputs": [
    {
     "data": {
      "text/plain": [
       "<seaborn.axisgrid.JointGrid at 0x249062b31f0>"
      ]
     },
     "execution_count": 11,
     "metadata": {},
     "output_type": "execute_result"
    },
    {
     "data": {
      "image/png": "[encoded data removed]",
      "text/plain": [
       "<Figure size 600x600 with 3 Axes>"
      ]
     },
     "metadata": {},
     "output_type": "display_data"
    }
   ],
   "source": [
    "sns.jointplot(data=df,x='area',y='price')\n",
    "\n",
    "#If area of house is 6000 to 12000 we have high prices after thean "
   ]
  },
  {
   "cell_type": "markdown",
   "metadata": {
    "id": "kfL-tFdYu476"
   },
   "source": [
    "\n",
    "\n",
    "> Multivariate Analysis\n",
    "\n"
   ]
  },
  {
   "cell_type": "code",
   "execution_count": 12,
   "metadata": {
    "executionInfo": {
     "elapsed": 4,
     "status": "ok",
     "timestamp": 1685977058172,
     "user": {
      "displayName": "Kapil",
      "userId": "17476189774344634490"
     },
     "user_tz": -330
    },
    "id": "EoLtmCqXw8U8"
   },
   "outputs": [],
   "source": [
    "corr_df = pd.read_csv('Housing.csv')\n",
    "LE = LabelEncoder()\n",
    "a = corr_df.iloc[:,[5,6,7,8,9,11]]\n",
    "\n",
    "for column in a:\n",
    "    corr_df[column] = LE.fit_transform(corr_df[column])\n",
    "\n",
    "#Duplicate dataset to apply encoding and find correlation"
   ]
  },
  {
   "cell_type": "code",
   "execution_count": 13,
   "metadata": {
    "colab": {
     "base_uri": "https://localhost:8080/",
     "height": 0
    },
    "executionInfo": {
     "elapsed": 1244,
     "status": "ok",
     "timestamp": 1685977059413,
     "user": {
      "displayName": "Kapil",
      "userId": "17476189774344634490"
     },
     "user_tz": -330
    },
    "id": "N28xVkXLuJrI",
    "outputId": "02221063-1074-46cd-9224-bccbccea5cdd"
   },
   "outputs": [
    {
     "data": {
      "text/plain": [
       "<Axes: >"
      ]
     },
     "execution_count": 13,
     "metadata": {},
     "output_type": "execute_result"
    },
    {
     "data": {
      "image/png": "[encoded data removed]",
      "text/plain": [
       "<Figure size 640x480 with 2 Axes>"
      ]
     },
     "metadata": {},
     "output_type": "display_data"
    }
   ],
   "source": [
    "sns.heatmap(corr_df.corr(),annot=True)\n",
    "\n",
    "# Here I performed encoding to find the correlation of the categorical variables too with the price\n",
    "# We found out that area>bathrooms>ac>stories are the correlation order for price so these variable are a important one "
   ]
  },
  {
   "cell_type": "code",
   "execution_count": null,
   "metadata": {
    "id": "yxUeJoGvvAAk"
   },
   "outputs": [],
   "source": [
    "sns.pairplot(df)\n",
    "\n",
    "# 4 bedrooms have high price and no bedrooms and 6 bedrooms have low price\n",
    "# 2 bathrooms have high price and we can't find the lower price because every number has equal prices\n",
    "# 2 and 4 stories have high price even though we have a high price for 3 story but its an outlier and low price for 1 story\n",
    "# 2 parking space have high price and no parking space has low price"
   ]
  },
  {
   "cell_type": "markdown",
   "metadata": {
    "id": "LgQHUFvpzlff"
   },
   "source": [
    "# Descriptive Statistics"
   ]
  },
  {
   "cell_type": "markdown",
   "metadata": {
    "id": "hYrMPVpmztVk"
   },
   "source": [
    "We'll take only the numerical columns for the descriptive analysis for some functions so we'll create a new dataframe named df1 containg only numerical columns"
   ]
  },
  {
   "cell_type": "code",
   "execution_count": null,
   "metadata": {
    "id": "j7viIRwYxjQk"
   },
   "outputs": [],
   "source": [
    "df1 = df.iloc[:,[0,1,2,3,4,10]]\n",
    "df1.head()"
   ]
  },
  {
   "cell_type": "code",
   "execution_count": null,
   "metadata": {
    "id": "pilrraOn0CEb"
   },
   "outputs": [],
   "source": [
    "df1.mean()"
   ]
  },
  {
   "cell_type": "code",
   "execution_count": null,
   "metadata": {
    "id": "osGBXmij0HSF"
   },
   "outputs": [],
   "source": [
    "df1.median()"
   ]
  },
  {
   "cell_type": "code",
   "execution_count": null,
   "metadata": {
    "id": "dxmQZX3C0KCm"
   },
   "outputs": [],
   "source": [
    "df.mode()"
   ]
  },
  {
   "cell_type": "code",
   "execution_count": null,
   "metadata": {
    "id": "TpQ1Uo4Z0MIH"
   },
   "outputs": [],
   "source": [
    "df.max()"
   ]
  },
  {
   "cell_type": "code",
   "execution_count": null,
   "metadata": {
    "id": "SXWXfMX10N0k"
   },
   "outputs": [],
   "source": [
    "df.min()"
   ]
  },
  {
   "cell_type": "code",
   "execution_count": null,
   "metadata": {
    "id": "DmsDeQ8A0PjN"
   },
   "outputs": [],
   "source": [
    "df.var()"
   ]
  },
  {
   "cell_type": "code",
   "execution_count": null,
   "metadata": {
    "id": "VHibhMn40Rx8"
   },
   "outputs": [],
   "source": [
    "df.std()"
   ]
  },
  {
   "cell_type": "code",
   "execution_count": null,
   "metadata": {
    "id": "XRlMfWfG0Uv4"
   },
   "outputs": [],
   "source": [
    "quantile = df1.quantile(q=[0.25,0.75])\n",
    "quantile"
   ]
  },
  {
   "cell_type": "code",
   "execution_count": null,
   "metadata": {
    "id": "TZHofsDT0Ws1"
   },
   "outputs": [],
   "source": [
    "IQR = quantile.iloc[1]-quantile.iloc[0]\n",
    "upper_extreme = quantile.iloc[1]+(1.5*IQR)\n",
    "upper_extreme"
   ]
  },
  {
   "cell_type": "code",
   "execution_count": null,
   "metadata": {
    "id": "DZhl0WGO0cQm"
   },
   "outputs": [],
   "source": [
    "lower_extreme = quantile.iloc[0]-(1.5*IQR)\n",
    "lower_extreme"
   ]
  },
  {
   "cell_type": "code",
   "execution_count": null,
   "metadata": {
    "id": "CGEbxPDZ0d7P"
   },
   "outputs": [],
   "source": [
    "df.skew()"
   ]
  },
  {
   "cell_type": "code",
   "execution_count": null,
   "metadata": {
    "id": "mAZgqfS50fjd"
   },
   "outputs": [],
   "source": [
    "df.kurt()"
   ]
  },
  {
   "cell_type": "code",
   "execution_count": null,
   "metadata": {
    "id": "085Ahuas0hZx"
   },
   "outputs": [],
   "source": [
    "corr_df.corr()"
   ]
  },
  {
   "cell_type": "code",
   "execution_count": null,
   "metadata": {
    "id": "1jNAlTxz0jy8"
   },
   "outputs": [],
   "source": [
    "df['bathrooms'].value_counts()"
   ]
  },
  {
   "cell_type": "code",
   "execution_count": null,
   "metadata": {
    "id": "mvWC6x1p0w9T"
   },
   "outputs": [],
   "source": [
    "df['parking'].value_counts()"
   ]
  },
  {
   "cell_type": "markdown",
   "metadata": {
    "id": "906tSZhP08Jw"
   },
   "source": [
    "# Outliers"
   ]
  },
  {
   "cell_type": "code",
   "execution_count": null,
   "metadata": {
    "id": "MvF4UIIo04w5"
   },
   "outputs": [],
   "source": [
    "sns.boxplot(df)"
   ]
  },
  {
   "cell_type": "code",
   "execution_count": null,
   "metadata": {
    "id": "8GvU0f_z1AZ9"
   },
   "outputs": [],
   "source": [
    "for column in ['price','area']:\n",
    "  Q1 = df[column].quantile(0.25)\n",
    "  Q3 = df[column].quantile(0.75)\n",
    "  IQR = Q3-Q1\n",
    "  l_e = Q1 - (1.5*IQR)\n",
    "  u_e = Q1 + (1.5*IQR)\n",
    "  df[column] = np.where(df[column]>u_e,u_e,np.where(df[column]<l_e,l_e,df[column]))\n",
    "\n",
    "# Removing outliers only for area and price "
   ]
  },
  {
   "cell_type": "code",
   "execution_count": null,
   "metadata": {
    "id": "rUSeayq21cwT"
   },
   "outputs": [],
   "source": [
    "sns.boxplot(df) # Outliers on Area and Price removed"
   ]
  },
  {
   "cell_type": "markdown",
   "metadata": {
    "id": "89oHYWOt3CoQ"
   },
   "source": [
    "# Encoding"
   ]
  },
  {
   "cell_type": "code",
   "execution_count": null,
   "metadata": {
    "id": "Nx1ecHZI1fKc"
   },
   "outputs": [],
   "source": [
    "LE = LabelEncoder()\n",
    "xf = df.iloc[:,[5,6,7,8,9,11]].columns\n",
    "for column in xf:\n",
    "  df[column] = LE.fit_transform(df[column])\n",
    "df"
   ]
  },
  {
   "cell_type": "code",
   "execution_count": null,
   "metadata": {
    "id": "f85PsSMc3aer"
   },
   "outputs": [],
   "source": [
    "df.info() #no more object dtype"
   ]
  },
  {
   "cell_type": "markdown",
   "metadata": {
    "id": "ca3Obqvf3qRh"
   },
   "source": [
    "# Split the data into dependent and independent variable"
   ]
  },
  {
   "cell_type": "code",
   "execution_count": null,
   "metadata": {
    "id": "sd2HIG-W3eJD"
   },
   "outputs": [],
   "source": [
    "x = df.iloc[:,1:].values  # Except 1st column (all columns except price)\n",
    "y = df.iloc[:,0].values   # Only 1st column (only price)"
   ]
  },
  {
   "cell_type": "code",
   "execution_count": null,
   "metadata": {
    "id": "5v5KgO6y3_PV"
   },
   "outputs": [],
   "source": [
    "x"
   ]
  },
  {
   "cell_type": "code",
   "execution_count": null,
   "metadata": {
    "id": "CYVsLYDn4L9x"
   },
   "outputs": [],
   "source": [
    "y"
   ]
  },
  {
   "cell_type": "markdown",
   "metadata": {
    "id": "IInBDq104ib8"
   },
   "source": [
    "# Train Test Split"
   ]
  },
  {
   "cell_type": "code",
   "execution_count": null,
   "metadata": {
    "id": "jfBKUuyF4MQg"
   },
   "outputs": [],
   "source": [
    "x_train,x_test,y_train,y_test = train_test_split(x,y,test_size=0.2,random_state=0)"
   ]
  },
  {
   "cell_type": "code",
   "execution_count": null,
   "metadata": {
    "id": "rFz0_GAP5mku"
   },
   "outputs": [],
   "source": [
    "x_train.shape"
   ]
  },
  {
   "cell_type": "code",
   "execution_count": null,
   "metadata": {
    "id": "RBZz1vb15ooG"
   },
   "outputs": [],
   "source": [
    "x_test.shape"
   ]
  },
  {
   "cell_type": "code",
   "execution_count": null,
   "metadata": {
    "id": "lBeLdqU-5rE5"
   },
   "outputs": [],
   "source": [
    "y_train.shape"
   ]
  },
  {
   "cell_type": "code",
   "execution_count": null,
   "metadata": {
    "id": "tTd3xi9X5tk_"
   },
   "outputs": [],
   "source": [
    "y_test.shape"
   ]
  },
  {
   "cell_type": "code",
   "execution_count": null,
   "metadata": {
    "id": "vTvrAdGt4wg1"
   },
   "outputs": [],
   "source": [
    "x_train"
   ]
  },
  {
   "cell_type": "code",
   "execution_count": null,
   "metadata": {
    "id": "zMf2GNNV4xgY"
   },
   "outputs": [],
   "source": [
    "x_test"
   ]
  },
  {
   "cell_type": "code",
   "execution_count": null,
   "metadata": {
    "id": "d-vt6GNE4yPJ"
   },
   "outputs": [],
   "source": [
    "y_train"
   ]
  },
  {
   "cell_type": "code",
   "execution_count": null,
   "metadata": {
    "id": "XX5VLjU44zNA"
   },
   "outputs": [],
   "source": [
    "y_test"
   ]
  },
  {
   "cell_type": "markdown",
   "metadata": {
    "id": "cUZjBn1b41iH"
   },
   "source": [
    "# Feature Scaling"
   ]
  },
  {
   "cell_type": "markdown",
   "metadata": {
    "id": "LEOXAeM65863"
   },
   "source": [
    "Here I'm doing the feature scaling after the train test split because I have refered many articles and in many of them Feature scaling after train test split is suggested so I'll be doing like that"
   ]
  },
  {
   "cell_type": "code",
   "execution_count": null,
   "metadata": {
    "id": "BdNPThvg5GAP"
   },
   "outputs": [],
   "source": [
    "SS = StandardScaler()\n",
    "x_train = SS.fit_transform(x_train)\n",
    "x_test = SS.fit_transform(x_test)"
   ]
  },
  {
   "cell_type": "code",
   "execution_count": null,
   "metadata": {
    "id": "zztM0uiY5dEW"
   },
   "outputs": [],
   "source": [
    "x_train "
   ]
  },
  {
   "cell_type": "code",
   "execution_count": null,
   "metadata": {
    "id": "V9845pPQ5ixc"
   },
   "outputs": [],
   "source": [
    "x_test"
   ]
  },
  {
   "cell_type": "markdown",
   "metadata": {
    "id": "5yX5xqdS5yxy"
   },
   "source": [
    "# Model Building"
   ]
  },
  {
   "cell_type": "markdown",
   "metadata": {
    "id": "glSWc8rw5-lD"
   },
   "source": [
    "Our target varible is a numeric one so we shall do the regression here I have tried all the regression models namely\n",
    "\n",
    "\n",
    "1.   Multilinear Regression\n",
    "2.   Polynomial Regression\n",
    "3.   Support Vector Regression\n",
    "4.   Decision Tree Regression\n",
    "5.   Random Forest Regression\n",
    "6.   Lasso Regression\n",
    "7.   Ridge Regression\n",
    "\n"
   ]
  },
  {
   "cell_type": "markdown",
   "metadata": {
    "id": "ptzVJpjm66cS"
   },
   "source": [
    "\n",
    "\n",
    "> # Linear Regression\n",
    "\n"
   ]
  },
  {
   "cell_type": "code",
   "execution_count": null,
   "metadata": {
    "id": "dXPzqvvK5jcz"
   },
   "outputs": [],
   "source": [
    "from sklearn.linear_model import LinearRegression\n",
    "from sklearn.metrics import r2_score\n",
    "LR = LinearRegression()\n",
    "LR.fit(x_train,y_train)"
   ]
  },
  {
   "cell_type": "code",
   "execution_count": null,
   "metadata": {
    "id": "jXnIHtno76H3"
   },
   "outputs": [],
   "source": [
    "y_predMLR = LR.predict(x_test)"
   ]
  },
  {
   "cell_type": "code",
   "execution_count": null,
   "metadata": {
    "id": "4-OjJqIU-sK8"
   },
   "outputs": [],
   "source": [
    "r2_score(y_test,y_predMLR) "
   ]
  },
  {
   "cell_type": "markdown",
   "metadata": {
    "id": "qmZhzUAo783B"
   },
   "source": [
    "\n",
    "> # Polynomial Regression\n",
    "\n"
   ]
  },
  {
   "cell_type": "code",
   "execution_count": null,
   "metadata": {
    "id": "--MOXR4J7m_Q"
   },
   "outputs": [],
   "source": [
    "from sklearn.linear_model import LinearRegression\n",
    "from sklearn.preprocessing import PolynomialFeatures\n",
    "from sklearn.metrics import r2_score\n",
    "PF = PolynomialFeatures(degree=4)\n",
    "x_poly = PF.fit_transform(x_train)\n",
    "x_poly"
   ]
  },
  {
   "cell_type": "code",
   "execution_count": null,
   "metadata": {
    "id": "S8LtQDBA8FR6"
   },
   "outputs": [],
   "source": [
    "LR1 = LinearRegression()\n",
    "LR1.fit(x_poly,y_train)"
   ]
  },
  {
   "cell_type": "code",
   "execution_count": null,
   "metadata": {
    "id": "T1DW6J-l8I9W"
   },
   "outputs": [],
   "source": [
    "y_predPR = LR1.predict(PF.fit_transform(x_test))"
   ]
  },
  {
   "cell_type": "code",
   "execution_count": null,
   "metadata": {
    "id": "dBDnNjM88P0U"
   },
   "outputs": [],
   "source": [
    "r2_score(y_test,y_predPR) # Worst score"
   ]
  },
  {
   "cell_type": "markdown",
   "metadata": {
    "id": "HS8eQHcRVDAO"
   },
   "source": [
    "\n",
    "\n",
    "> # Support Vector Regression\n"
   ]
  },
  {
   "cell_type": "code",
   "execution_count": null,
   "metadata": {
    "id": "LIH1HUHLU6NZ"
   },
   "outputs": [],
   "source": [
    "from sklearn.svm import SVR\n",
    "SV = SVR(kernel='rbf') # Let's use gaussian radial basis function\n",
    "SV.fit(x_train,y_train)"
   ]
  },
  {
   "cell_type": "code",
   "execution_count": null,
   "metadata": {
    "id": "m6sfES4WVp3Q"
   },
   "outputs": [],
   "source": [
    "y_predSVR = SV.predict(x_test)"
   ]
  },
  {
   "cell_type": "code",
   "execution_count": null,
   "metadata": {
    "id": "1YivpvUbV0DV"
   },
   "outputs": [],
   "source": [
    "r2_score(y_test,y_predSVR)  # Worst Model"
   ]
  },
  {
   "cell_type": "markdown",
   "metadata": {
    "id": "NsZmnTY5WEiw"
   },
   "source": [
    "\n",
    "\n",
    "> # Decision Tree Regression\n",
    "\n"
   ]
  },
  {
   "cell_type": "code",
   "execution_count": null,
   "metadata": {
    "id": "2ZCPUL2IV3i2"
   },
   "outputs": [],
   "source": [
    "from sklearn.tree import DecisionTreeRegressor\n",
    "DTR = DecisionTreeRegressor(criterion='squared_error',random_state=0)\n",
    "DTR.fit(x_train,y_train)"
   ]
  },
  {
   "cell_type": "code",
   "execution_count": null,
   "metadata": {
    "id": "axXUB8GuXIOO"
   },
   "outputs": [],
   "source": [
    "y_predDTR = DTR.predict(x_test)"
   ]
  },
  {
   "cell_type": "code",
   "execution_count": null,
   "metadata": {
    "id": "ZGJE7857YdXy"
   },
   "outputs": [],
   "source": [
    "r2_score(y_test,y_predDTR)"
   ]
  },
  {
   "cell_type": "markdown",
   "metadata": {
    "id": "PZ5elgyxJ3KM"
   },
   "source": [
    "> # Random Forest Regression"
   ]
  },
  {
   "cell_type": "code",
   "execution_count": null,
   "metadata": {
    "id": "BgwdoTT2Yhxp"
   },
   "outputs": [],
   "source": [
    "from sklearn.ensemble import RandomForestRegressor\n",
    "RFR = RandomForestRegressor(n_estimators=100,random_state=0)"
   ]
  },
  {
   "cell_type": "code",
   "execution_count": null,
   "metadata": {
    "id": "Y9Ms9N6Uerks"
   },
   "outputs": [],
   "source": [
    "RFR.fit(x_train,y_train)"
   ]
  },
  {
   "cell_type": "code",
   "execution_count": null,
   "metadata": {
    "id": "0sMcRJbNeusl"
   },
   "outputs": [],
   "source": [
    "y_predRFR = RFR.predict(x_test)"
   ]
  },
  {
   "cell_type": "code",
   "execution_count": null,
   "metadata": {
    "id": "dROH5RVUe0Jp"
   },
   "outputs": [],
   "source": [
    "r2_score(y_test,y_predRFR)"
   ]
  },
  {
   "cell_type": "markdown",
   "metadata": {
    "id": "duXDKomyOuYp"
   },
   "source": [
    "\n",
    "> # Lasso Regression\n",
    "\n"
   ]
  },
  {
   "cell_type": "code",
   "execution_count": null,
   "metadata": {
    "id": "0-5QKGEke3u3"
   },
   "outputs": [],
   "source": [
    "from sklearn.linear_model import Lasso\n",
    "L = Lasso()\n",
    "L.fit(x_train,y_train)"
   ]
  },
  {
   "cell_type": "code",
   "execution_count": null,
   "metadata": {
    "id": "B-FZEBpONfI-"
   },
   "outputs": [],
   "source": [
    "y_predL = L.predict(x_test)"
   ]
  },
  {
   "cell_type": "code",
   "execution_count": null,
   "metadata": {
    "id": "KzPdACwRNna-"
   },
   "outputs": [],
   "source": [
    "r2_score(y_test,y_predL)"
   ]
  },
  {
   "cell_type": "markdown",
   "metadata": {
    "id": "fPawz4d_Ojz8"
   },
   "source": [
    "\n",
    "\n",
    "> # Ridge Regression\n",
    "\n"
   ]
  },
  {
   "cell_type": "code",
   "execution_count": null,
   "metadata": {
    "id": "8dptbDmDOaVA"
   },
   "outputs": [],
   "source": [
    "from sklearn.linear_model import Ridge\n",
    "R = Ridge()"
   ]
  },
  {
   "cell_type": "code",
   "execution_count": null,
   "metadata": {
    "id": "ihYwSlkWNtad"
   },
   "outputs": [],
   "source": [
    "R.fit(x_train,y_train)"
   ]
  },
  {
   "cell_type": "code",
   "execution_count": null,
   "metadata": {
    "id": "VpHDPv0hNwrB"
   },
   "outputs": [],
   "source": [
    "y_predR = R.predict(x_test)"
   ]
  },
  {
   "cell_type": "code",
   "execution_count": null,
   "metadata": {
    "id": "_LBOur_tQRC4"
   },
   "outputs": [],
   "source": [
    "np.set_printoptions(precision=2)\n",
    "print(np.concatenate((y_predR.reshape(len(y_predR),1), y_test.reshape(len(y_test),1)),1))\n",
    "\n",
    "#Comparison of our predicted value with original value side by side"
   ]
  },
  {
   "cell_type": "code",
   "execution_count": null,
   "metadata": {
    "id": "HJf0OUI-NzZn"
   },
   "outputs": [],
   "source": [
    "r2_score(y_test,y_predR)"
   ]
  },
  {
   "cell_type": "markdown",
   "metadata": {
    "id": "snjRWpUUDX8B"
   },
   "source": [
    "R^2 Summary:\n",
    "\n",
    "Multilinear Regression    : 0.6542\n",
    "\n",
    "Polynomial Regression     : -8.013\n",
    "\n",
    "Support Vector Regression : -0.021\n",
    "\n",
    "Decision Tree Regression  : 0.5559\n",
    "\n",
    "Random Forest Regression  : 0.6033\n",
    "\n",
    "Lasso Regression          : 0.6542\n",
    "\n",
    "Ridge Regression          : 0.6543"
   ]
  },
  {
   "cell_type": "code",
   "execution_count": null,
   "metadata": {
    "id": "9AHQyY8jXWOb"
   },
   "outputs": [],
   "source": [
    "R.predict(SS.fit_transform([[8000,3,3,2,1,1,1,1,1,2,0]]))\n",
    "\n",
    "# Here we are predicting the price for a house of area 8000 and has 4 bedrooms and has 2 bathrooms and has 2 stories and its in mainroad and it has a guestroom and a basement too with hotwater heating and AC capabilities and has 2 parking slots and it has fully furnished furnitures \n",
    "# The house price is ₹45,67,443"
   ]
  },
  {
   "cell_type": "markdown",
   "metadata": {
    "id": "52JsuKr0UAuP"
   },
   "source": [
    "# Model Evaluation"
   ]
  },
  {
   "cell_type": "markdown",
   "metadata": {
    "id": "mtEtc-kCUYv8"
   },
   "source": [
    "We high R^2 score for Ridge Regression so we'll use that model and find its other performance metrics and \n",
    "\n",
    "I got higher r^2 value for Ridge Regression If I didn't treat the outliers\n",
    "\n",
    "![image.png](data:image/png;base64,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)"
   ]
  },
  {
   "cell_type": "code",
   "execution_count": null,
   "metadata": {
    "id": "CRiPWS34UYbc"
   },
   "outputs": [],
   "source": [
    "from sklearn import metrics\n",
    "\n",
    "print(metrics.mean_squared_error(y_test,y_predR))\n",
    "print(np.sqrt(metrics.mean_squared_error(y_test,y_predR)))\n",
    "print(metrics.r2_score(y_test,y_predR))"
   ]
  }
 ],
 "metadata": {
  "colab": {
   "authorship_tag": "ABX9TyNUyrCJvY5PBc2kBmEYOJMZ",
   "collapsed_sections": [
    "Ykr3p8bArmpG",
    "LgQHUFvpzlff"
   ],
   "provenance": []
  },
  "kernelspec": {
   "display_name": "Python 3 (ipykernel)",
   "language": "python",
   "name": "python3"
  },
  "language_info": {
   "codemirror_mode": {
    "name": "ipython",
    "version": 3
   },
   "file_extension": ".py",
   "mimetype": "text/x-python",
   "name": "python",
   "nbconvert_exporter": "python",
   "pygments_lexer": "ipython3",
   "version": "3.10.9"
  }
 },
 "nbformat": 4,
 "nbformat_minor": 1
}
