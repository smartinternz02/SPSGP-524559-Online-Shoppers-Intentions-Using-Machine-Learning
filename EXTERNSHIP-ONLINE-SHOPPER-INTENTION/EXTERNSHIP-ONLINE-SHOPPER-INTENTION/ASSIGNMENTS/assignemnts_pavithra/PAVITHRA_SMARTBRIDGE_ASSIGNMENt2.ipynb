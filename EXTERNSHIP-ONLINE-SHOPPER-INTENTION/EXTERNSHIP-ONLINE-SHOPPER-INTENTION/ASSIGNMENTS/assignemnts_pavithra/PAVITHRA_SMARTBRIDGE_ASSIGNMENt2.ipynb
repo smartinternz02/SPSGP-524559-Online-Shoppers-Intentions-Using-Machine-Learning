{
 "cells": [
  {
   "cell_type": "markdown",
   "metadata": {
    "id": "XTMq56sXmlsg"
   },
   "source": [
    "# Importing Libraries"
   ]
  },
  {
   "cell_type": "code",
   "execution_count": 2,
   "metadata": {
    "id": "xXfx5sXCd-7q"
   },
   "outputs": [],
   "source": [
    "import numpy as np\n",
    "import pandas as pd\n",
    "import matplotlib.pyplot as plt\n",
    "import seaborn as sns\n",
    "from sklearn.model_selection import train_test_split\n",
    "from sklearn.preprocessing import LabelEncoder\n",
    "from sklearn.preprocessing import StandardScaler"
   ]
  },
  {
   "cell_type": "markdown",
   "metadata": {
    "id": "jWg8r46tfGha"
   },
   "source": [
    "# Load the dataset"
   ]
  },
  {
   "cell_type": "code",
   "execution_count": 3,
   "metadata": {
    "colab": {
     "base_uri": "https://localhost:8080/",
     "height": 487
    },
    "executionInfo": {
     "elapsed": 39,
     "status": "ok",
     "timestamp": 1685246783629,
     "user": {
      "displayName": "Kapil",
      "userId": "17476189774344634490"
     },
     "user_tz": -330
    },
    "id": "Z1G-NLnwebPZ",
    "outputId": "eace07cd-ea43-468f-9233-917c3796b6bd"
   },
   "outputs": [
    {
     "data": {
      "text/html": [
       "<div>\n",
       "<style scoped>\n",
       "    .dataframe tbody tr th:only-of-type {\n",
       "        vertical-align: middle;\n",
       "    }\n",
       "\n",
       "    .dataframe tbody tr th {\n",
       "        vertical-align: top;\n",
       "    }\n",
       "\n",
       "    .dataframe thead th {\n",
       "        text-align: right;\n",
       "    }\n",
       "</style>\n",
       "<table border=\"1\" class=\"dataframe\">\n",
       "  <thead>\n",
       "    <tr style=\"text-align: right;\">\n",
       "      <th></th>\n",
       "      <th>survived</th>\n",
       "      <th>pclass</th>\n",
       "      <th>sex</th>\n",
       "      <th>age</th>\n",
       "      <th>sibsp</th>\n",
       "      <th>parch</th>\n",
       "      <th>fare</th>\n",
       "      <th>embarked</th>\n",
       "      <th>class</th>\n",
       "      <th>who</th>\n",
       "      <th>adult_male</th>\n",
       "      <th>deck</th>\n",
       "      <th>embark_town</th>\n",
       "      <th>alive</th>\n",
       "      <th>alone</th>\n",
       "    </tr>\n",
       "  </thead>\n",
       "  <tbody>\n",
       "    <tr>\n",
       "      <th>0</th>\n",
       "      <td>0</td>\n",
       "      <td>3</td>\n",
       "      <td>male</td>\n",
       "      <td>22.0</td>\n",
       "      <td>1</td>\n",
       "      <td>0</td>\n",
       "      <td>7.2500</td>\n",
       "      <td>S</td>\n",
       "      <td>Third</td>\n",
       "      <td>man</td>\n",
       "      <td>True</td>\n",
       "      <td>NaN</td>\n",
       "      <td>Southampton</td>\n",
       "      <td>no</td>\n",
       "      <td>False</td>\n",
       "    </tr>\n",
       "    <tr>\n",
       "      <th>1</th>\n",
       "      <td>1</td>\n",
       "      <td>1</td>\n",
       "      <td>female</td>\n",
       "      <td>38.0</td>\n",
       "      <td>1</td>\n",
       "      <td>0</td>\n",
       "      <td>71.2833</td>\n",
       "      <td>C</td>\n",
       "      <td>First</td>\n",
       "      <td>woman</td>\n",
       "      <td>False</td>\n",
       "      <td>C</td>\n",
       "      <td>Cherbourg</td>\n",
       "      <td>yes</td>\n",
       "      <td>False</td>\n",
       "    </tr>\n",
       "    <tr>\n",
       "      <th>2</th>\n",
       "      <td>1</td>\n",
       "      <td>3</td>\n",
       "      <td>female</td>\n",
       "      <td>26.0</td>\n",
       "      <td>0</td>\n",
       "      <td>0</td>\n",
       "      <td>7.9250</td>\n",
       "      <td>S</td>\n",
       "      <td>Third</td>\n",
       "      <td>woman</td>\n",
       "      <td>False</td>\n",
       "      <td>NaN</td>\n",
       "      <td>Southampton</td>\n",
       "      <td>yes</td>\n",
       "      <td>True</td>\n",
       "    </tr>\n",
       "    <tr>\n",
       "      <th>3</th>\n",
       "      <td>1</td>\n",
       "      <td>1</td>\n",
       "      <td>female</td>\n",
       "      <td>35.0</td>\n",
       "      <td>1</td>\n",
       "      <td>0</td>\n",
       "      <td>53.1000</td>\n",
       "      <td>S</td>\n",
       "      <td>First</td>\n",
       "      <td>woman</td>\n",
       "      <td>False</td>\n",
       "      <td>C</td>\n",
       "      <td>Southampton</td>\n",
       "      <td>yes</td>\n",
       "      <td>False</td>\n",
       "    </tr>\n",
       "    <tr>\n",
       "      <th>4</th>\n",
       "      <td>0</td>\n",
       "      <td>3</td>\n",
       "      <td>male</td>\n",
       "      <td>35.0</td>\n",
       "      <td>0</td>\n",
       "      <td>0</td>\n",
       "      <td>8.0500</td>\n",
       "      <td>S</td>\n",
       "      <td>Third</td>\n",
       "      <td>man</td>\n",
       "      <td>True</td>\n",
       "      <td>NaN</td>\n",
       "      <td>Southampton</td>\n",
       "      <td>no</td>\n",
       "      <td>True</td>\n",
       "    </tr>\n",
       "    <tr>\n",
       "      <th>...</th>\n",
       "      <td>...</td>\n",
       "      <td>...</td>\n",
       "      <td>...</td>\n",
       "      <td>...</td>\n",
       "      <td>...</td>\n",
       "      <td>...</td>\n",
       "      <td>...</td>\n",
       "      <td>...</td>\n",
       "      <td>...</td>\n",
       "      <td>...</td>\n",
       "      <td>...</td>\n",
       "      <td>...</td>\n",
       "      <td>...</td>\n",
       "      <td>...</td>\n",
       "      <td>...</td>\n",
       "    </tr>\n",
       "    <tr>\n",
       "      <th>886</th>\n",
       "      <td>0</td>\n",
       "      <td>2</td>\n",
       "      <td>male</td>\n",
       "      <td>27.0</td>\n",
       "      <td>0</td>\n",
       "      <td>0</td>\n",
       "      <td>13.0000</td>\n",
       "      <td>S</td>\n",
       "      <td>Second</td>\n",
       "      <td>man</td>\n",
       "      <td>True</td>\n",
       "      <td>NaN</td>\n",
       "      <td>Southampton</td>\n",
       "      <td>no</td>\n",
       "      <td>True</td>\n",
       "    </tr>\n",
       "    <tr>\n",
       "      <th>887</th>\n",
       "      <td>1</td>\n",
       "      <td>1</td>\n",
       "      <td>female</td>\n",
       "      <td>19.0</td>\n",
       "      <td>0</td>\n",
       "      <td>0</td>\n",
       "      <td>30.0000</td>\n",
       "      <td>S</td>\n",
       "      <td>First</td>\n",
       "      <td>woman</td>\n",
       "      <td>False</td>\n",
       "      <td>B</td>\n",
       "      <td>Southampton</td>\n",
       "      <td>yes</td>\n",
       "      <td>True</td>\n",
       "    </tr>\n",
       "    <tr>\n",
       "      <th>888</th>\n",
       "      <td>0</td>\n",
       "      <td>3</td>\n",
       "      <td>female</td>\n",
       "      <td>NaN</td>\n",
       "      <td>1</td>\n",
       "      <td>2</td>\n",
       "      <td>23.4500</td>\n",
       "      <td>S</td>\n",
       "      <td>Third</td>\n",
       "      <td>woman</td>\n",
       "      <td>False</td>\n",
       "      <td>NaN</td>\n",
       "      <td>Southampton</td>\n",
       "      <td>no</td>\n",
       "      <td>False</td>\n",
       "    </tr>\n",
       "    <tr>\n",
       "      <th>889</th>\n",
       "      <td>1</td>\n",
       "      <td>1</td>\n",
       "      <td>male</td>\n",
       "      <td>26.0</td>\n",
       "      <td>0</td>\n",
       "      <td>0</td>\n",
       "      <td>30.0000</td>\n",
       "      <td>C</td>\n",
       "      <td>First</td>\n",
       "      <td>man</td>\n",
       "      <td>True</td>\n",
       "      <td>C</td>\n",
       "      <td>Cherbourg</td>\n",
       "      <td>yes</td>\n",
       "      <td>True</td>\n",
       "    </tr>\n",
       "    <tr>\n",
       "      <th>890</th>\n",
       "      <td>0</td>\n",
       "      <td>3</td>\n",
       "      <td>male</td>\n",
       "      <td>32.0</td>\n",
       "      <td>0</td>\n",
       "      <td>0</td>\n",
       "      <td>7.7500</td>\n",
       "      <td>Q</td>\n",
       "      <td>Third</td>\n",
       "      <td>man</td>\n",
       "      <td>True</td>\n",
       "      <td>NaN</td>\n",
       "      <td>Queenstown</td>\n",
       "      <td>no</td>\n",
       "      <td>True</td>\n",
       "    </tr>\n",
       "  </tbody>\n",
       "</table>\n",
       "<p>891 rows × 15 columns</p>\n",
       "</div>"
      ],
      "text/plain": [
       "     survived  pclass     sex   age  sibsp  parch     fare embarked   class  \\\n",
       "0           0       3    male  22.0      1      0   7.2500        S   Third   \n",
       "1           1       1  female  38.0      1      0  71.2833        C   First   \n",
       "2           1       3  female  26.0      0      0   7.9250        S   Third   \n",
       "3           1       1  female  35.0      1      0  53.1000        S   First   \n",
       "4           0       3    male  35.0      0      0   8.0500        S   Third   \n",
       "..        ...     ...     ...   ...    ...    ...      ...      ...     ...   \n",
       "886         0       2    male  27.0      0      0  13.0000        S  Second   \n",
       "887         1       1  female  19.0      0      0  30.0000        S   First   \n",
       "888         0       3  female   NaN      1      2  23.4500        S   Third   \n",
       "889         1       1    male  26.0      0      0  30.0000        C   First   \n",
       "890         0       3    male  32.0      0      0   7.7500        Q   Third   \n",
       "\n",
       "       who  adult_male deck  embark_town alive  alone  \n",
       "0      man        True  NaN  Southampton    no  False  \n",
       "1    woman       False    C    Cherbourg   yes  False  \n",
       "2    woman       False  NaN  Southampton   yes   True  \n",
       "3    woman       False    C  Southampton   yes  False  \n",
       "4      man        True  NaN  Southampton    no   True  \n",
       "..     ...         ...  ...          ...   ...    ...  \n",
       "886    man        True  NaN  Southampton    no   True  \n",
       "887  woman       False    B  Southampton   yes   True  \n",
       "888  woman       False  NaN  Southampton    no  False  \n",
       "889    man        True    C    Cherbourg   yes   True  \n",
       "890    man        True  NaN   Queenstown    no   True  \n",
       "\n",
       "[891 rows x 15 columns]"
      ]
     },
     "execution_count": 3,
     "metadata": {},
     "output_type": "execute_result"
    }
   ],
   "source": [
    "df = pd.read_csv(\"D:/anaconda/titanic.csv\")\n",
    "df"
   ]
  },
  {
   "cell_type": "markdown",
   "metadata": {
    "id": "V-TNlWBbgDnn"
   },
   "source": [
    "# Handling Missing values"
   ]
  },
  {
   "cell_type": "code",
   "execution_count": 3,
   "metadata": {
    "colab": {
     "base_uri": "https://localhost:8080/"
    },
    "executionInfo": {
     "elapsed": 36,
     "status": "ok",
     "timestamp": 1685246783630,
     "user": {
      "displayName": "Kapil",
      "userId": "17476189774344634490"
     },
     "user_tz": -330
    },
    "id": "ZWSdbinofMw7",
    "outputId": "ca707248-7b02-4d75-80f9-03668356cdca"
   },
   "outputs": [
    {
     "data": {
      "text/plain": [
       "survived       False\n",
       "pclass         False\n",
       "sex            False\n",
       "age             True\n",
       "sibsp          False\n",
       "parch          False\n",
       "fare           False\n",
       "embarked        True\n",
       "class          False\n",
       "who            False\n",
       "adult_male     False\n",
       "deck            True\n",
       "embark_town     True\n",
       "alive          False\n",
       "alone          False\n",
       "dtype: bool"
      ]
     },
     "execution_count": 3,
     "metadata": {},
     "output_type": "execute_result"
    }
   ],
   "source": [
    "df.isnull().any()"
   ]
  },
  {
   "cell_type": "code",
   "execution_count": 4,
   "metadata": {
    "colab": {
     "base_uri": "https://localhost:8080/"
    },
    "executionInfo": {
     "elapsed": 36,
     "status": "ok",
     "timestamp": 1685246783632,
     "user": {
      "displayName": "Kapil",
      "userId": "17476189774344634490"
     },
     "user_tz": -330
    },
    "id": "iDfG1OW_gXdl",
    "outputId": "384e121b-74f0-4ed0-8fa5-4c54a2a9c0ee"
   },
   "outputs": [
    {
     "data": {
      "text/plain": [
       "survived         0\n",
       "pclass           0\n",
       "sex              0\n",
       "age            177\n",
       "sibsp            0\n",
       "parch            0\n",
       "fare             0\n",
       "embarked         2\n",
       "class            0\n",
       "who              0\n",
       "adult_male       0\n",
       "deck           688\n",
       "embark_town      2\n",
       "alive            0\n",
       "alone            0\n",
       "dtype: int64"
      ]
     },
     "execution_count": 4,
     "metadata": {},
     "output_type": "execute_result"
    }
   ],
   "source": [
    "df.isnull().sum()"
   ]
  },
  {
   "cell_type": "code",
   "execution_count": 5,
   "metadata": {
    "colab": {
     "base_uri": "https://localhost:8080/",
     "height": 270
    },
    "executionInfo": {
     "elapsed": 35,
     "status": "ok",
     "timestamp": 1685246783633,
     "user": {
      "displayName": "Kapil",
      "userId": "17476189774344634490"
     },
     "user_tz": -330
    },
    "id": "RJcs7qsIgwB5",
    "outputId": "094aa5e0-994f-401b-de4e-ea605cb7963b"
   },
   "outputs": [
    {
     "data": {
      "text/html": [
       "<div>\n",
       "<style scoped>\n",
       "    .dataframe tbody tr th:only-of-type {\n",
       "        vertical-align: middle;\n",
       "    }\n",
       "\n",
       "    .dataframe tbody tr th {\n",
       "        vertical-align: top;\n",
       "    }\n",
       "\n",
       "    .dataframe thead th {\n",
       "        text-align: right;\n",
       "    }\n",
       "</style>\n",
       "<table border=\"1\" class=\"dataframe\">\n",
       "  <thead>\n",
       "    <tr style=\"text-align: right;\">\n",
       "      <th></th>\n",
       "      <th>survived</th>\n",
       "      <th>pclass</th>\n",
       "      <th>sex</th>\n",
       "      <th>age</th>\n",
       "      <th>sibsp</th>\n",
       "      <th>parch</th>\n",
       "      <th>fare</th>\n",
       "      <th>embarked</th>\n",
       "      <th>class</th>\n",
       "      <th>who</th>\n",
       "      <th>adult_male</th>\n",
       "      <th>embark_town</th>\n",
       "      <th>alive</th>\n",
       "      <th>alone</th>\n",
       "    </tr>\n",
       "  </thead>\n",
       "  <tbody>\n",
       "    <tr>\n",
       "      <th>0</th>\n",
       "      <td>0</td>\n",
       "      <td>3</td>\n",
       "      <td>male</td>\n",
       "      <td>22.0</td>\n",
       "      <td>1</td>\n",
       "      <td>0</td>\n",
       "      <td>7.2500</td>\n",
       "      <td>S</td>\n",
       "      <td>Third</td>\n",
       "      <td>man</td>\n",
       "      <td>True</td>\n",
       "      <td>Southampton</td>\n",
       "      <td>no</td>\n",
       "      <td>False</td>\n",
       "    </tr>\n",
       "    <tr>\n",
       "      <th>1</th>\n",
       "      <td>1</td>\n",
       "      <td>1</td>\n",
       "      <td>female</td>\n",
       "      <td>38.0</td>\n",
       "      <td>1</td>\n",
       "      <td>0</td>\n",
       "      <td>71.2833</td>\n",
       "      <td>C</td>\n",
       "      <td>First</td>\n",
       "      <td>woman</td>\n",
       "      <td>False</td>\n",
       "      <td>Cherbourg</td>\n",
       "      <td>yes</td>\n",
       "      <td>False</td>\n",
       "    </tr>\n",
       "    <tr>\n",
       "      <th>2</th>\n",
       "      <td>1</td>\n",
       "      <td>3</td>\n",
       "      <td>female</td>\n",
       "      <td>26.0</td>\n",
       "      <td>0</td>\n",
       "      <td>0</td>\n",
       "      <td>7.9250</td>\n",
       "      <td>S</td>\n",
       "      <td>Third</td>\n",
       "      <td>woman</td>\n",
       "      <td>False</td>\n",
       "      <td>Southampton</td>\n",
       "      <td>yes</td>\n",
       "      <td>True</td>\n",
       "    </tr>\n",
       "    <tr>\n",
       "      <th>3</th>\n",
       "      <td>1</td>\n",
       "      <td>1</td>\n",
       "      <td>female</td>\n",
       "      <td>35.0</td>\n",
       "      <td>1</td>\n",
       "      <td>0</td>\n",
       "      <td>53.1000</td>\n",
       "      <td>S</td>\n",
       "      <td>First</td>\n",
       "      <td>woman</td>\n",
       "      <td>False</td>\n",
       "      <td>Southampton</td>\n",
       "      <td>yes</td>\n",
       "      <td>False</td>\n",
       "    </tr>\n",
       "    <tr>\n",
       "      <th>4</th>\n",
       "      <td>0</td>\n",
       "      <td>3</td>\n",
       "      <td>male</td>\n",
       "      <td>35.0</td>\n",
       "      <td>0</td>\n",
       "      <td>0</td>\n",
       "      <td>8.0500</td>\n",
       "      <td>S</td>\n",
       "      <td>Third</td>\n",
       "      <td>man</td>\n",
       "      <td>True</td>\n",
       "      <td>Southampton</td>\n",
       "      <td>no</td>\n",
       "      <td>True</td>\n",
       "    </tr>\n",
       "  </tbody>\n",
       "</table>\n",
       "</div>"
      ],
      "text/plain": [
       "   survived  pclass     sex   age  sibsp  parch     fare embarked  class  \\\n",
       "0         0       3    male  22.0      1      0   7.2500        S  Third   \n",
       "1         1       1  female  38.0      1      0  71.2833        C  First   \n",
       "2         1       3  female  26.0      0      0   7.9250        S  Third   \n",
       "3         1       1  female  35.0      1      0  53.1000        S  First   \n",
       "4         0       3    male  35.0      0      0   8.0500        S  Third   \n",
       "\n",
       "     who  adult_male  embark_town alive  alone  \n",
       "0    man        True  Southampton    no  False  \n",
       "1  woman       False    Cherbourg   yes  False  \n",
       "2  woman       False  Southampton   yes   True  \n",
       "3  woman       False  Southampton   yes  False  \n",
       "4    man        True  Southampton    no   True  "
      ]
     },
     "execution_count": 5,
     "metadata": {},
     "output_type": "execute_result"
    }
   ],
   "source": [
    "# Here we have 688 null values for deck column out of 891 records having this much NA values and using the column is useless so we'll drop the deck column\n",
    "\n",
    "df = df.drop(columns=['deck'])\n",
    "df.head()"
   ]
  },
  {
   "cell_type": "code",
   "execution_count": 6,
   "metadata": {
    "colab": {
     "base_uri": "https://localhost:8080/"
    },
    "executionInfo": {
     "elapsed": 34,
     "status": "ok",
     "timestamp": 1685246783634,
     "user": {
      "displayName": "Kapil",
      "userId": "17476189774344634490"
     },
     "user_tz": -330
    },
    "id": "iZOXmrFThVc_",
    "outputId": "3dd120ed-7947-4319-bc4c-51165190ba7f"
   },
   "outputs": [
    {
     "data": {
      "text/plain": [
       "survived         0\n",
       "pclass           0\n",
       "sex              0\n",
       "age            177\n",
       "sibsp            0\n",
       "parch            0\n",
       "fare             0\n",
       "embarked         2\n",
       "class            0\n",
       "who              0\n",
       "adult_male       0\n",
       "embark_town      2\n",
       "alive            0\n",
       "alone            0\n",
       "dtype: int64"
      ]
     },
     "execution_count": 6,
     "metadata": {},
     "output_type": "execute_result"
    }
   ],
   "source": [
    "df.isnull().sum()"
   ]
  },
  {
   "cell_type": "code",
   "execution_count": 7,
   "metadata": {
    "id": "GofR-18jhd_e"
   },
   "outputs": [],
   "source": [
    "df['age'].fillna(np.ceil(df['age'].mean()),inplace=True)"
   ]
  },
  {
   "cell_type": "code",
   "execution_count": 8,
   "metadata": {
    "colab": {
     "base_uri": "https://localhost:8080/"
    },
    "executionInfo": {
     "elapsed": 32,
     "status": "ok",
     "timestamp": 1685246783636,
     "user": {
      "displayName": "Kapil",
      "userId": "17476189774344634490"
     },
     "user_tz": -330
    },
    "id": "9wnM9xT7iDBa",
    "outputId": "5fda10bc-8184-48f0-804b-35b8604dd9a5"
   },
   "outputs": [
    {
     "data": {
      "text/plain": [
       "False"
      ]
     },
     "execution_count": 8,
     "metadata": {},
     "output_type": "execute_result"
    }
   ],
   "source": [
    "df['age'].isna().any()"
   ]
  },
  {
   "cell_type": "code",
   "execution_count": 9,
   "metadata": {
    "colab": {
     "base_uri": "https://localhost:8080/"
    },
    "executionInfo": {
     "elapsed": 29,
     "status": "ok",
     "timestamp": 1685246783637,
     "user": {
      "displayName": "Kapil",
      "userId": "17476189774344634490"
     },
     "user_tz": -330
    },
    "id": "xclwCn_xig1W",
    "outputId": "0d0bdebe-57fc-42c7-d9a4-4958f7178d39"
   },
   "outputs": [
    {
     "data": {
      "text/plain": [
       "survived       0\n",
       "pclass         0\n",
       "sex            0\n",
       "age            0\n",
       "sibsp          0\n",
       "parch          0\n",
       "fare           0\n",
       "embarked       2\n",
       "class          0\n",
       "who            0\n",
       "adult_male     0\n",
       "embark_town    2\n",
       "alive          0\n",
       "alone          0\n",
       "dtype: int64"
      ]
     },
     "execution_count": 9,
     "metadata": {},
     "output_type": "execute_result"
    }
   ],
   "source": [
    "df.isna().sum()"
   ]
  },
  {
   "cell_type": "code",
   "execution_count": 10,
   "metadata": {
    "colab": {
     "base_uri": "https://localhost:8080/"
    },
    "executionInfo": {
     "elapsed": 28,
     "status": "ok",
     "timestamp": 1685246783638,
     "user": {
      "displayName": "Kapil",
      "userId": "17476189774344634490"
     },
     "user_tz": -330
    },
    "id": "5YJt0_L3jFOP",
    "outputId": "53946092-d204-46a6-94fd-f7dd293d08da"
   },
   "outputs": [
    {
     "data": {
      "text/plain": [
       "survived       False\n",
       "pclass         False\n",
       "sex            False\n",
       "age            False\n",
       "sibsp          False\n",
       "parch          False\n",
       "fare           False\n",
       "embarked       False\n",
       "class          False\n",
       "who            False\n",
       "adult_male     False\n",
       "embark_town     True\n",
       "alive          False\n",
       "alone          False\n",
       "dtype: bool"
      ]
     },
     "execution_count": 10,
     "metadata": {},
     "output_type": "execute_result"
    }
   ],
   "source": [
    "df['embarked'].fillna(df['embarked'].mode()[0],inplace=True)\n",
    "df.isna().any()"
   ]
  },
  {
   "cell_type": "code",
   "execution_count": 11,
   "metadata": {
    "colab": {
     "base_uri": "https://localhost:8080/"
    },
    "executionInfo": {
     "elapsed": 27,
     "status": "ok",
     "timestamp": 1685246783639,
     "user": {
      "displayName": "Kapil",
      "userId": "17476189774344634490"
     },
     "user_tz": -330
    },
    "id": "Q3gIn0N9jQoP",
    "outputId": "bbf55920-5616-4dd0-b0d7-ee56765b1c00"
   },
   "outputs": [
    {
     "data": {
      "text/plain": [
       "survived       False\n",
       "pclass         False\n",
       "sex            False\n",
       "age            False\n",
       "sibsp          False\n",
       "parch          False\n",
       "fare           False\n",
       "embarked       False\n",
       "class          False\n",
       "who            False\n",
       "adult_male     False\n",
       "embark_town    False\n",
       "alive          False\n",
       "alone          False\n",
       "dtype: bool"
      ]
     },
     "execution_count": 11,
     "metadata": {},
     "output_type": "execute_result"
    }
   ],
   "source": [
    "df['embark_town'].fillna(df['embark_town'].mode()[0],inplace=True)\n",
    "df.isna().any()"
   ]
  },
  {
   "cell_type": "markdown",
   "metadata": {
    "id": "BjqqXQ5Rmfyv"
   },
   "source": [
    "# Visualisation"
   ]
  },
  {
   "cell_type": "markdown",
   "metadata": {
    "id": "bSEmChj4oewa"
   },
   "source": [
    "\n",
    "\n",
    "## Univariate Analysis\n",
    "\n"
   ]
  },
  {
   "cell_type": "code",
   "execution_count": 4,
   "metadata": {
    "colab": {
     "base_uri": "https://localhost:8080/",
     "height": 680
    },
    "executionInfo": {
     "elapsed": 1941,
     "status": "ok",
     "timestamp": 1685246785555,
     "user": {
      "displayName": "Kapil",
      "userId": "17476189774344634490"
     },
     "user_tz": -330
    },
    "id": "djGhQSJBkErl",
    "outputId": "e4b19185-55c3-4571-d352-04545e8d490e"
   },
   "outputs": [
    {
     "name": "stderr",
     "output_type": "stream",
     "text": [
      "C:\\Users\\PAVITHRA\\AppData\\Local\\Temp\\ipykernel_20068\\1512872506.py:1: UserWarning: \n",
      "\n",
      "`distplot` is a deprecated function and will be removed in seaborn v0.14.0.\n",
      "\n",
      "Please adapt your code to use either `displot` (a figure-level function with\n",
      "similar flexibility) or `histplot` (an axes-level function for histograms).\n",
      "\n",
      "For a guide to updating your code to use the new functions, please see\n",
      "https://gist.github.com/mwaskom/de44147ed2974457ad6372750bbe5751\n",
      "\n",
      "  sns.distplot(df['age'])\n"
     ]
    },
    {
     "data": {
      "text/plain": [
       "Text(0.5, 1.0, 'Age Distribution plot')"
      ]
     },
     "execution_count": 4,
     "metadata": {},
     "output_type": "execute_result"
    },
    {
     "data": {
      "image/png": "[encoded data removed]",
      "text/plain": [
       "<Figure size 640x480 with 1 Axes>"
      ]
     },
     "metadata": {},
     "output_type": "display_data"
    }
   ],
   "source": [
    "\n",
    "sns.distplot(df['age'])\n",
    "plt.xlabel(\"Age\")\n",
    "plt.title(\"Age Distribution plot\")"
   ]
  },
  {
   "cell_type": "code",
   "execution_count": 13,
   "metadata": {
    "colab": {
     "base_uri": "https://localhost:8080/",
     "height": 510
    },
    "executionInfo": {
     "elapsed": 650,
     "status": "ok",
     "timestamp": 1685249980911,
     "user": {
      "displayName": "Kapil",
      "userId": "17476189774344634490"
     },
     "user_tz": -330
    },
    "id": "ZgWP5GwCnF2q",
    "outputId": "fe98b39e-2cec-4da3-e86f-c7d6d47bc581"
   },
   "outputs": [
    {
     "data": {
      "text/plain": [
       "([<matplotlib.patches.Wedge at 0x13d01e831c0>,\n",
       "  <matplotlib.patches.Wedge at 0x13d01e830d0>],\n",
       " [Text(-0.3925749350994583, 1.0275626113924428, 'Not Survived'),\n",
       "  Text(0.3925750313068116, -1.0275625746369201, 'Survived')],\n",
       " [Text(-0.21413178278152267, 0.5604886971231505, '61.62%'),\n",
       "  Text(0.21413183525826085, -0.5604886770746836, '38.38%')])"
      ]
     },
     "execution_count": 13,
     "metadata": {},
     "output_type": "execute_result"
    },
    {
     "data": {
      "image/png": "[encoded data removed]",
      "text/plain": [
       "<Figure size 640x480 with 1 Axes>"
      ]
     },
     "metadata": {},
     "output_type": "display_data"
    }
   ],
   "source": [
    "plt.pie(df['survived'].value_counts(),labels=['Not Survived','Survived'],autopct=\"%.2f%%\")"
   ]
  },
  {
   "cell_type": "markdown",
   "metadata": {
    "id": "lbvP44GfooAx"
   },
   "source": [
    "\n",
    "\n",
    "## Bivariate Analysis\n",
    "\n"
   ]
  },
  {
   "cell_type": "code",
   "execution_count": 14,
   "metadata": {
    "colab": {
     "base_uri": "https://localhost:8080/",
     "height": 466
    },
    "executionInfo": {
     "elapsed": 14,
     "status": "ok",
     "timestamp": 1685246785556,
     "user": {
      "displayName": "Kapil",
      "userId": "17476189774344634490"
     },
     "user_tz": -330
    },
    "id": "uQ92qRQootqX",
    "outputId": "989a14a7-7bc4-4d45-e367-8aa32cbecc53"
   },
   "outputs": [
    {
     "data": {
      "text/plain": [
       "<Axes: xlabel='class', ylabel='survived'>"
      ]
     },
     "execution_count": 14,
     "metadata": {},
     "output_type": "execute_result"
    },
    {
     "data": {
      "image/png": "[encoded data removed]",
      "text/plain": [
       "<Figure size 640x480 with 1 Axes>"
      ]
     },
     "metadata": {},
     "output_type": "display_data"
    }
   ],
   "source": [
    "sns.barplot(data=df,x='class',y='survived')"
   ]
  },
  {
   "cell_type": "code",
   "execution_count": 15,
   "metadata": {
    "colab": {
     "base_uri": "https://localhost:8080/",
     "height": 466
    },
    "executionInfo": {
     "elapsed": 1866,
     "status": "ok",
     "timestamp": 1685246787411,
     "user": {
      "displayName": "Kapil",
      "userId": "17476189774344634490"
     },
     "user_tz": -330
    },
    "id": "WUNJxRgIsAiu",
    "outputId": "c39b1946-aece-4aec-ad3d-dafbbee01899"
   },
   "outputs": [
    {
     "data": {
      "text/plain": [
       "<Axes: xlabel='age', ylabel='fare'>"
      ]
     },
     "execution_count": 15,
     "metadata": {},
     "output_type": "execute_result"
    },
    {
     "data": {
      "image/png": "[encoded data removed]",
      "text/plain": [
       "<Figure size 640x480 with 1 Axes>"
      ]
     },
     "metadata": {},
     "output_type": "display_data"
    }
   ],
   "source": [
    "sns.scatterplot(data=df, x='age', y='fare')"
   ]
  },
  {
   "cell_type": "code",
   "execution_count": 16,
   "metadata": {
    "colab": {
     "base_uri": "https://localhost:8080/",
     "height": 624
    },
    "executionInfo": {
     "elapsed": 16,
     "status": "ok",
     "timestamp": 1685246787412,
     "user": {
      "displayName": "Kapil",
      "userId": "17476189774344634490"
     },
     "user_tz": -330
    },
    "id": "x8iphjG-pioY",
    "outputId": "e1559a24-f9e1-4d71-8e00-53eb448cea02"
   },
   "outputs": [
    {
     "data": {
      "text/plain": [
       "<seaborn.axisgrid.JointGrid at 0x13d01d7bd00>"
      ]
     },
     "execution_count": 16,
     "metadata": {},
     "output_type": "execute_result"
    },
    {
     "data": {
      "image/png": "[encoded data removed]",
      "text/plain": [
       "<Figure size 600x600 with 3 Axes>"
      ]
     },
     "metadata": {},
     "output_type": "display_data"
    }
   ],
   "source": [
    "sns.jointplot(data=df,x='age',y='fare')"
   ]
  },
  {
   "cell_type": "markdown",
   "metadata": {
    "id": "A9EeWRHDpiIt"
   },
   "source": [
    "\n",
    "\n",
    "## Multivariate Analysis\n",
    "\n"
   ]
  },
  {
   "cell_type": "code",
   "execution_count": 5,
   "metadata": {
    "colab": {
     "base_uri": "https://localhost:8080/",
     "height": 570
    },
    "executionInfo": {
     "elapsed": 1843,
     "status": "ok",
     "timestamp": 1685246789242,
     "user": {
      "displayName": "Kapil",
      "userId": "17476189774344634490"
     },
     "user_tz": -330
    },
    "id": "jc4H40HRsKLD",
    "outputId": "1669f491-116f-4587-87ee-78e17a1e90df"
   },
   "outputs": [
    {
     "name": "stderr",
     "output_type": "stream",
     "text": [
      "C:\\Users\\PAVITHRA\\AppData\\Local\\Temp\\ipykernel_20068\\4277794465.py:1: FutureWarning: The default value of numeric_only in DataFrame.corr is deprecated. In a future version, it will default to False. Select only valid columns or specify the value of numeric_only to silence this warning.\n",
      "  sns.heatmap(df.corr(),annot=True)\n"
     ]
    },
    {
     "data": {
      "text/plain": [
       "<Axes: >"
      ]
     },
     "execution_count": 5,
     "metadata": {},
     "output_type": "execute_result"
    },
    {
     "data": {
      "image/png": "[encoded data removed]",
      "text/plain": [
       "<Figure size 640x480 with 2 Axes>"
      ]
     },
     "metadata": {},
     "output_type": "display_data"
    }
   ],
   "source": [
    "sns.heatmap(df.corr(),annot=True)"
   ]
  },
  {
   "cell_type": "code",
   "execution_count": 18,
   "metadata": {
    "colab": {
     "base_uri": "https://localhost:8080/",
     "height": 736
    },
    "executionInfo": {
     "elapsed": 44677,
     "status": "ok",
     "timestamp": 1685246833911,
     "user": {
      "displayName": "Kapil",
      "userId": "17476189774344634490"
     },
     "user_tz": -330
    },
    "id": "48b-sNAKtRmu",
    "outputId": "a8c86b77-9c38-40eb-ee10-37c167e299af"
   },
   "outputs": [
    {
     "name": "stderr",
     "output_type": "stream",
     "text": [
      "<__array_function__ internals>:180: RuntimeWarning: Converting input from bool to <class 'numpy.uint8'> for compatibility.\n",
      "<__array_function__ internals>:180: RuntimeWarning: Converting input from bool to <class 'numpy.uint8'> for compatibility.\n"
     ]
    },
    {
     "data": {
      "text/plain": [
       "<seaborn.axisgrid.PairGrid at 0x13d0368e350>"
      ]
     },
     "execution_count": 18,
     "metadata": {},
     "output_type": "execute_result"
    },
    {
     "data": {
      "image/png": "[encoded data removed]",
      "text/plain": [
       "<Figure size 2000x2000 with 72 Axes>"
      ]
     },
     "metadata": {},
     "output_type": "display_data"
    }
   ],
   "source": [
    "sns.pairplot(df)"
   ]
  },
  {
   "cell_type": "markdown",
   "metadata": {
    "id": "nFby6pxIvilZ"
   },
   "source": [
    "# Descriptive Statistics"
   ]
  },
  {
   "cell_type": "markdown",
   "metadata": {
    "id": "mLQBV4JHx_FV"
   },
   "source": [
    "We'll take only the numerical columns for the descriptive analysis for some functions so we'll create a new dataframe named df1 containg only numerical columns"
   ]
  },
  {
   "cell_type": "code",
   "execution_count": 19,
   "metadata": {
    "colab": {
     "base_uri": "https://localhost:8080/",
     "height": 206
    },
    "executionInfo": {
     "elapsed": 32,
     "status": "ok",
     "timestamp": 1685246833912,
     "user": {
      "displayName": "Kapil",
      "userId": "17476189774344634490"
     },
     "user_tz": -330
    },
    "id": "zOtSOGFbxOcF",
    "outputId": "25d62a35-ceb0-415e-b392-ce0b7abc8111"
   },
   "outputs": [
    {
     "data": {
      "text/html": [
       "<div>\n",
       "<style scoped>\n",
       "    .dataframe tbody tr th:only-of-type {\n",
       "        vertical-align: middle;\n",
       "    }\n",
       "\n",
       "    .dataframe tbody tr th {\n",
       "        vertical-align: top;\n",
       "    }\n",
       "\n",
       "    .dataframe thead th {\n",
       "        text-align: right;\n",
       "    }\n",
       "</style>\n",
       "<table border=\"1\" class=\"dataframe\">\n",
       "  <thead>\n",
       "    <tr style=\"text-align: right;\">\n",
       "      <th></th>\n",
       "      <th>survived</th>\n",
       "      <th>pclass</th>\n",
       "      <th>age</th>\n",
       "      <th>sibsp</th>\n",
       "      <th>parch</th>\n",
       "      <th>fare</th>\n",
       "    </tr>\n",
       "  </thead>\n",
       "  <tbody>\n",
       "    <tr>\n",
       "      <th>0</th>\n",
       "      <td>0</td>\n",
       "      <td>3</td>\n",
       "      <td>22.0</td>\n",
       "      <td>1</td>\n",
       "      <td>0</td>\n",
       "      <td>7.2500</td>\n",
       "    </tr>\n",
       "    <tr>\n",
       "      <th>1</th>\n",
       "      <td>1</td>\n",
       "      <td>1</td>\n",
       "      <td>38.0</td>\n",
       "      <td>1</td>\n",
       "      <td>0</td>\n",
       "      <td>71.2833</td>\n",
       "    </tr>\n",
       "    <tr>\n",
       "      <th>2</th>\n",
       "      <td>1</td>\n",
       "      <td>3</td>\n",
       "      <td>26.0</td>\n",
       "      <td>0</td>\n",
       "      <td>0</td>\n",
       "      <td>7.9250</td>\n",
       "    </tr>\n",
       "    <tr>\n",
       "      <th>3</th>\n",
       "      <td>1</td>\n",
       "      <td>1</td>\n",
       "      <td>35.0</td>\n",
       "      <td>1</td>\n",
       "      <td>0</td>\n",
       "      <td>53.1000</td>\n",
       "    </tr>\n",
       "    <tr>\n",
       "      <th>4</th>\n",
       "      <td>0</td>\n",
       "      <td>3</td>\n",
       "      <td>35.0</td>\n",
       "      <td>0</td>\n",
       "      <td>0</td>\n",
       "      <td>8.0500</td>\n",
       "    </tr>\n",
       "  </tbody>\n",
       "</table>\n",
       "</div>"
      ],
      "text/plain": [
       "   survived  pclass   age  sibsp  parch     fare\n",
       "0         0       3  22.0      1      0   7.2500\n",
       "1         1       1  38.0      1      0  71.2833\n",
       "2         1       3  26.0      0      0   7.9250\n",
       "3         1       1  35.0      1      0  53.1000\n",
       "4         0       3  35.0      0      0   8.0500"
      ]
     },
     "execution_count": 19,
     "metadata": {},
     "output_type": "execute_result"
    }
   ],
   "source": [
    "df1 = df.drop(columns=['sex','class','embarked','embark_town','who','adult_male','alive','alone'])\n",
    "df1.head()"
   ]
  },
  {
   "cell_type": "code",
   "execution_count": 20,
   "metadata": {
    "colab": {
     "base_uri": "https://localhost:8080/"
    },
    "executionInfo": {
     "elapsed": 30,
     "status": "ok",
     "timestamp": 1685246833912,
     "user": {
      "displayName": "Kapil",
      "userId": "17476189774344634490"
     },
     "user_tz": -330
    },
    "id": "1vqLBgYLvhlj",
    "outputId": "4bcaf2b6-de8f-47eb-cb7b-8c7b4cced9d7"
   },
   "outputs": [
    {
     "data": {
      "text/plain": [
       "survived     0.383838\n",
       "pclass       2.308642\n",
       "age         29.758889\n",
       "sibsp        0.523008\n",
       "parch        0.381594\n",
       "fare        32.204208\n",
       "dtype: float64"
      ]
     },
     "execution_count": 20,
     "metadata": {},
     "output_type": "execute_result"
    }
   ],
   "source": [
    "df1.mean()"
   ]
  },
  {
   "cell_type": "code",
   "execution_count": 21,
   "metadata": {
    "colab": {
     "base_uri": "https://localhost:8080/"
    },
    "executionInfo": {
     "elapsed": 27,
     "status": "ok",
     "timestamp": 1685246833913,
     "user": {
      "displayName": "Kapil",
      "userId": "17476189774344634490"
     },
     "user_tz": -330
    },
    "id": "FewTSSZlv7jC",
    "outputId": "ed19d2bf-9ac3-40a2-9e75-0037813fa834"
   },
   "outputs": [
    {
     "data": {
      "text/plain": [
       "survived     0.0000\n",
       "pclass       3.0000\n",
       "age         30.0000\n",
       "sibsp        0.0000\n",
       "parch        0.0000\n",
       "fare        14.4542\n",
       "dtype: float64"
      ]
     },
     "execution_count": 21,
     "metadata": {},
     "output_type": "execute_result"
    }
   ],
   "source": [
    "df1.median()"
   ]
  },
  {
   "cell_type": "code",
   "execution_count": 22,
   "metadata": {
    "colab": {
     "base_uri": "https://localhost:8080/",
     "height": 145
    },
    "executionInfo": {
     "elapsed": 27,
     "status": "ok",
     "timestamp": 1685246833914,
     "user": {
      "displayName": "Kapil",
      "userId": "17476189774344634490"
     },
     "user_tz": -330
    },
    "id": "JDDi54Npv9NP",
    "outputId": "53c39ac7-0cc3-4974-da18-ab008a8eaae3"
   },
   "outputs": [
    {
     "data": {
      "text/html": [
       "<div>\n",
       "<style scoped>\n",
       "    .dataframe tbody tr th:only-of-type {\n",
       "        vertical-align: middle;\n",
       "    }\n",
       "\n",
       "    .dataframe tbody tr th {\n",
       "        vertical-align: top;\n",
       "    }\n",
       "\n",
       "    .dataframe thead th {\n",
       "        text-align: right;\n",
       "    }\n",
       "</style>\n",
       "<table border=\"1\" class=\"dataframe\">\n",
       "  <thead>\n",
       "    <tr style=\"text-align: right;\">\n",
       "      <th></th>\n",
       "      <th>survived</th>\n",
       "      <th>pclass</th>\n",
       "      <th>sex</th>\n",
       "      <th>age</th>\n",
       "      <th>sibsp</th>\n",
       "      <th>parch</th>\n",
       "      <th>fare</th>\n",
       "      <th>embarked</th>\n",
       "      <th>class</th>\n",
       "      <th>who</th>\n",
       "      <th>adult_male</th>\n",
       "      <th>embark_town</th>\n",
       "      <th>alive</th>\n",
       "      <th>alone</th>\n",
       "    </tr>\n",
       "  </thead>\n",
       "  <tbody>\n",
       "    <tr>\n",
       "      <th>0</th>\n",
       "      <td>0</td>\n",
       "      <td>3</td>\n",
       "      <td>male</td>\n",
       "      <td>30.0</td>\n",
       "      <td>0</td>\n",
       "      <td>0</td>\n",
       "      <td>8.05</td>\n",
       "      <td>S</td>\n",
       "      <td>Third</td>\n",
       "      <td>man</td>\n",
       "      <td>True</td>\n",
       "      <td>Southampton</td>\n",
       "      <td>no</td>\n",
       "      <td>True</td>\n",
       "    </tr>\n",
       "  </tbody>\n",
       "</table>\n",
       "</div>"
      ],
      "text/plain": [
       "   survived  pclass   sex   age  sibsp  parch  fare embarked  class  who  \\\n",
       "0         0       3  male  30.0      0      0  8.05        S  Third  man   \n",
       "\n",
       "   adult_male  embark_town alive  alone  \n",
       "0        True  Southampton    no   True  "
      ]
     },
     "execution_count": 22,
     "metadata": {},
     "output_type": "execute_result"
    }
   ],
   "source": [
    "df.mode()"
   ]
  },
  {
   "cell_type": "code",
   "execution_count": 23,
   "metadata": {
    "colab": {
     "base_uri": "https://localhost:8080/"
    },
    "executionInfo": {
     "elapsed": 26,
     "status": "ok",
     "timestamp": 1685246833914,
     "user": {
      "displayName": "Kapil",
      "userId": "17476189774344634490"
     },
     "user_tz": -330
    },
    "id": "oWV2tQfDv-Y0",
    "outputId": "0ab580bd-df9f-409d-b009-6a053a98dc65"
   },
   "outputs": [
    {
     "data": {
      "text/plain": [
       "survived                 1\n",
       "pclass                   3\n",
       "sex                   male\n",
       "age                   80.0\n",
       "sibsp                    8\n",
       "parch                    6\n",
       "fare              512.3292\n",
       "embarked                 S\n",
       "class                Third\n",
       "who                  woman\n",
       "adult_male            True\n",
       "embark_town    Southampton\n",
       "alive                  yes\n",
       "alone                 True\n",
       "dtype: object"
      ]
     },
     "execution_count": 23,
     "metadata": {},
     "output_type": "execute_result"
    }
   ],
   "source": [
    "df.max()"
   ]
  },
  {
   "cell_type": "code",
   "execution_count": 24,
   "metadata": {
    "colab": {
     "base_uri": "https://localhost:8080/"
    },
    "executionInfo": {
     "elapsed": 25,
     "status": "ok",
     "timestamp": 1685246833915,
     "user": {
      "displayName": "Kapil",
      "userId": "17476189774344634490"
     },
     "user_tz": -330
    },
    "id": "1AFX1dH7wFH6",
    "outputId": "75a31ce6-f3ec-4496-c5d2-4e831f04579e"
   },
   "outputs": [
    {
     "data": {
      "text/plain": [
       "survived               0\n",
       "pclass                 1\n",
       "sex               female\n",
       "age                 0.42\n",
       "sibsp                  0\n",
       "parch                  0\n",
       "fare                 0.0\n",
       "embarked               C\n",
       "class              First\n",
       "who                child\n",
       "adult_male         False\n",
       "embark_town    Cherbourg\n",
       "alive                 no\n",
       "alone              False\n",
       "dtype: object"
      ]
     },
     "execution_count": 24,
     "metadata": {},
     "output_type": "execute_result"
    }
   ],
   "source": [
    "df.min()"
   ]
  },
  {
   "cell_type": "code",
   "execution_count": 6,
   "metadata": {
    "colab": {
     "base_uri": "https://localhost:8080/"
    },
    "executionInfo": {
     "elapsed": 711,
     "status": "ok",
     "timestamp": 1685246834603,
     "user": {
      "displayName": "Kapil",
      "userId": "17476189774344634490"
     },
     "user_tz": -330
    },
    "id": "wN_eBJjdwGLd",
    "outputId": "cc1b3c83-8c2b-42f7-fa60-70120be60d06"
   },
   "outputs": [
    {
     "name": "stderr",
     "output_type": "stream",
     "text": [
      "C:\\Users\\PAVITHRA\\AppData\\Local\\Temp\\ipykernel_20068\\1568254755.py:1: FutureWarning: The default value of numeric_only in DataFrame.var is deprecated. In a future version, it will default to False. In addition, specifying 'numeric_only=None' is deprecated. Select only valid columns or specify the value of numeric_only to silence this warning.\n",
      "  df.var()\n"
     ]
    },
    {
     "data": {
      "text/plain": [
       "survived         0.236772\n",
       "pclass           0.699015\n",
       "age            211.019125\n",
       "sibsp            1.216043\n",
       "parch            0.649728\n",
       "fare          2469.436846\n",
       "adult_male       0.239723\n",
       "alone            0.239723\n",
       "dtype: float64"
      ]
     },
     "execution_count": 6,
     "metadata": {},
     "output_type": "execute_result"
    }
   ],
   "source": [
    "df.var()"
   ]
  },
  {
   "cell_type": "code",
   "execution_count": 7,
   "metadata": {
    "colab": {
     "base_uri": "https://localhost:8080/"
    },
    "executionInfo": {
     "elapsed": 30,
     "status": "ok",
     "timestamp": 1685246834604,
     "user": {
      "displayName": "Kapil",
      "userId": "17476189774344634490"
     },
     "user_tz": -330
    },
    "id": "KGSKmnYHwKr-",
    "outputId": "1452b093-34c2-4383-cc7d-a5e57487f7f9"
   },
   "outputs": [
    {
     "name": "stderr",
     "output_type": "stream",
     "text": [
      "C:\\Users\\PAVITHRA\\AppData\\Local\\Temp\\ipykernel_20068\\3390915376.py:1: FutureWarning: The default value of numeric_only in DataFrame.std is deprecated. In a future version, it will default to False. In addition, specifying 'numeric_only=None' is deprecated. Select only valid columns or specify the value of numeric_only to silence this warning.\n",
      "  df.std()\n"
     ]
    },
    {
     "data": {
      "text/plain": [
       "survived       0.486592\n",
       "pclass         0.836071\n",
       "age           14.526497\n",
       "sibsp          1.102743\n",
       "parch          0.806057\n",
       "fare          49.693429\n",
       "adult_male     0.489615\n",
       "alone          0.489615\n",
       "dtype: float64"
      ]
     },
     "execution_count": 7,
     "metadata": {},
     "output_type": "execute_result"
    }
   ],
   "source": [
    "df.std()"
   ]
  },
  {
   "cell_type": "code",
   "execution_count": 27,
   "metadata": {
    "colab": {
     "base_uri": "https://localhost:8080/",
     "height": 112
    },
    "executionInfo": {
     "elapsed": 27,
     "status": "ok",
     "timestamp": 1685246834604,
     "user": {
      "displayName": "Kapil",
      "userId": "17476189774344634490"
     },
     "user_tz": -330
    },
    "id": "2PKN0emLwfnB",
    "outputId": "85e76574-054c-4ee9-d842-6f30575e0876"
   },
   "outputs": [
    {
     "data": {
      "text/html": [
       "<div>\n",
       "<style scoped>\n",
       "    .dataframe tbody tr th:only-of-type {\n",
       "        vertical-align: middle;\n",
       "    }\n",
       "\n",
       "    .dataframe tbody tr th {\n",
       "        vertical-align: top;\n",
       "    }\n",
       "\n",
       "    .dataframe thead th {\n",
       "        text-align: right;\n",
       "    }\n",
       "</style>\n",
       "<table border=\"1\" class=\"dataframe\">\n",
       "  <thead>\n",
       "    <tr style=\"text-align: right;\">\n",
       "      <th></th>\n",
       "      <th>survived</th>\n",
       "      <th>pclass</th>\n",
       "      <th>age</th>\n",
       "      <th>sibsp</th>\n",
       "      <th>parch</th>\n",
       "      <th>fare</th>\n",
       "    </tr>\n",
       "  </thead>\n",
       "  <tbody>\n",
       "    <tr>\n",
       "      <th>0.25</th>\n",
       "      <td>0.0</td>\n",
       "      <td>2.0</td>\n",
       "      <td>22.0</td>\n",
       "      <td>0.0</td>\n",
       "      <td>0.0</td>\n",
       "      <td>7.9104</td>\n",
       "    </tr>\n",
       "    <tr>\n",
       "      <th>0.75</th>\n",
       "      <td>1.0</td>\n",
       "      <td>3.0</td>\n",
       "      <td>35.0</td>\n",
       "      <td>1.0</td>\n",
       "      <td>0.0</td>\n",
       "      <td>31.0000</td>\n",
       "    </tr>\n",
       "  </tbody>\n",
       "</table>\n",
       "</div>"
      ],
      "text/plain": [
       "      survived  pclass   age  sibsp  parch     fare\n",
       "0.25       0.0     2.0  22.0    0.0    0.0   7.9104\n",
       "0.75       1.0     3.0  35.0    1.0    0.0  31.0000"
      ]
     },
     "execution_count": 27,
     "metadata": {},
     "output_type": "execute_result"
    }
   ],
   "source": [
    "quantile = df1.quantile(q=[0.25,0.75])\n",
    "quantile"
   ]
  },
  {
   "cell_type": "code",
   "execution_count": 28,
   "metadata": {
    "id": "I0SMqh6Qw-F_"
   },
   "outputs": [],
   "source": [
    "IQR = quantile.iloc[1]-quantile.iloc[0]"
   ]
  },
  {
   "cell_type": "code",
   "execution_count": 29,
   "metadata": {
    "colab": {
     "base_uri": "https://localhost:8080/"
    },
    "executionInfo": {
     "elapsed": 27,
     "status": "ok",
     "timestamp": 1685246834605,
     "user": {
      "displayName": "Kapil",
      "userId": "17476189774344634490"
     },
     "user_tz": -330
    },
    "id": "HUWZQ-h5y4-m",
    "outputId": "e8cf7ba2-7dcc-4e74-bc04-2e5630c3c276"
   },
   "outputs": [
    {
     "data": {
      "text/plain": [
       "survived     2.5000\n",
       "pclass       4.5000\n",
       "age         54.5000\n",
       "sibsp        2.5000\n",
       "parch        0.0000\n",
       "fare        65.6344\n",
       "dtype: float64"
      ]
     },
     "execution_count": 29,
     "metadata": {},
     "output_type": "execute_result"
    }
   ],
   "source": [
    "upper_extreme = quantile.iloc[1]+(1.5*IQR)\n",
    "upper_extreme"
   ]
  },
  {
   "cell_type": "code",
   "execution_count": 30,
   "metadata": {
    "colab": {
     "base_uri": "https://localhost:8080/"
    },
    "executionInfo": {
     "elapsed": 25,
     "status": "ok",
     "timestamp": 1685246834605,
     "user": {
      "displayName": "Kapil",
      "userId": "17476189774344634490"
     },
     "user_tz": -330
    },
    "id": "ReV2_qhAzUhj",
    "outputId": "6ba2d474-0bcc-4052-b59a-37089d916e08"
   },
   "outputs": [
    {
     "data": {
      "text/plain": [
       "survived    -1.500\n",
       "pclass       0.500\n",
       "age          2.500\n",
       "sibsp       -1.500\n",
       "parch        0.000\n",
       "fare       -26.724\n",
       "dtype: float64"
      ]
     },
     "execution_count": 30,
     "metadata": {},
     "output_type": "execute_result"
    }
   ],
   "source": [
    "lower_extreme = quantile.iloc[0]-(1.5*IQR)\n",
    "lower_extreme"
   ]
  },
  {
   "cell_type": "code",
   "execution_count": 8,
   "metadata": {
    "colab": {
     "base_uri": "https://localhost:8080/"
    },
    "executionInfo": {
     "elapsed": 24,
     "status": "ok",
     "timestamp": 1685246834606,
     "user": {
      "displayName": "Kapil",
      "userId": "17476189774344634490"
     },
     "user_tz": -330
    },
    "id": "t2kqeW8hzdKX",
    "outputId": "de132052-14de-4b7a-93d0-81aa99d8ab29"
   },
   "outputs": [
    {
     "name": "stderr",
     "output_type": "stream",
     "text": [
      "C:\\Users\\PAVITHRA\\AppData\\Local\\Temp\\ipykernel_20068\\1665899112.py:1: FutureWarning: The default value of numeric_only in DataFrame.skew is deprecated. In a future version, it will default to False. In addition, specifying 'numeric_only=None' is deprecated. Select only valid columns or specify the value of numeric_only to silence this warning.\n",
      "  df.skew()\n"
     ]
    },
    {
     "data": {
      "text/plain": [
       "survived      0.478523\n",
       "pclass       -0.630548\n",
       "age           0.389108\n",
       "sibsp         3.695352\n",
       "parch         2.749117\n",
       "fare          4.787317\n",
       "adult_male   -0.420431\n",
       "alone        -0.420431\n",
       "dtype: float64"
      ]
     },
     "execution_count": 8,
     "metadata": {},
     "output_type": "execute_result"
    }
   ],
   "source": [
    "df.skew()"
   ]
  },
  {
   "cell_type": "code",
   "execution_count": 9,
   "metadata": {
    "colab": {
     "base_uri": "https://localhost:8080/"
    },
    "executionInfo": {
     "elapsed": 22,
     "status": "ok",
     "timestamp": 1685246834606,
     "user": {
      "displayName": "Kapil",
      "userId": "17476189774344634490"
     },
     "user_tz": -330
    },
    "id": "70EWHB1izhtb",
    "outputId": "fd3d2b05-488f-4ccf-97bb-6cb0c604065c"
   },
   "outputs": [
    {
     "name": "stderr",
     "output_type": "stream",
     "text": [
      "C:\\Users\\PAVITHRA\\AppData\\Local\\Temp\\ipykernel_20068\\1257127604.py:1: FutureWarning: The default value of numeric_only in DataFrame.kurt is deprecated. In a future version, it will default to False. In addition, specifying 'numeric_only=None' is deprecated. Select only valid columns or specify the value of numeric_only to silence this warning.\n",
      "  df.kurt()\n"
     ]
    },
    {
     "data": {
      "text/plain": [
       "survived      -1.775005\n",
       "pclass        -1.280015\n",
       "age            0.178274\n",
       "sibsp         17.880420\n",
       "parch          9.778125\n",
       "fare          33.398141\n",
       "adult_male    -1.827345\n",
       "alone         -1.827345\n",
       "dtype: float64"
      ]
     },
     "execution_count": 9,
     "metadata": {},
     "output_type": "execute_result"
    }
   ],
   "source": [
    "df.kurt()"
   ]
  },
  {
   "cell_type": "code",
   "execution_count": 10,
   "metadata": {
    "colab": {
     "base_uri": "https://localhost:8080/",
     "height": 399
    },
    "executionInfo": {
     "elapsed": 21,
     "status": "ok",
     "timestamp": 1685246834607,
     "user": {
      "displayName": "Kapil",
      "userId": "17476189774344634490"
     },
     "user_tz": -330
    },
    "id": "7q_p2umrzkGT",
    "outputId": "74737a71-bd7e-4616-91aa-5d7db099611a"
   },
   "outputs": [
    {
     "name": "stderr",
     "output_type": "stream",
     "text": [
      "C:\\Users\\PAVITHRA\\AppData\\Local\\Temp\\ipykernel_20068\\1134722465.py:1: FutureWarning: The default value of numeric_only in DataFrame.corr is deprecated. In a future version, it will default to False. Select only valid columns or specify the value of numeric_only to silence this warning.\n",
      "  df.corr()\n"
     ]
    },
    {
     "data": {
      "text/html": [
       "<div>\n",
       "<style scoped>\n",
       "    .dataframe tbody tr th:only-of-type {\n",
       "        vertical-align: middle;\n",
       "    }\n",
       "\n",
       "    .dataframe tbody tr th {\n",
       "        vertical-align: top;\n",
       "    }\n",
       "\n",
       "    .dataframe thead th {\n",
       "        text-align: right;\n",
       "    }\n",
       "</style>\n",
       "<table border=\"1\" class=\"dataframe\">\n",
       "  <thead>\n",
       "    <tr style=\"text-align: right;\">\n",
       "      <th></th>\n",
       "      <th>survived</th>\n",
       "      <th>pclass</th>\n",
       "      <th>age</th>\n",
       "      <th>sibsp</th>\n",
       "      <th>parch</th>\n",
       "      <th>fare</th>\n",
       "      <th>adult_male</th>\n",
       "      <th>alone</th>\n",
       "    </tr>\n",
       "  </thead>\n",
       "  <tbody>\n",
       "    <tr>\n",
       "      <th>survived</th>\n",
       "      <td>1.000000</td>\n",
       "      <td>-0.338481</td>\n",
       "      <td>-0.077221</td>\n",
       "      <td>-0.035322</td>\n",
       "      <td>0.081629</td>\n",
       "      <td>0.257307</td>\n",
       "      <td>-0.557080</td>\n",
       "      <td>-0.203367</td>\n",
       "    </tr>\n",
       "    <tr>\n",
       "      <th>pclass</th>\n",
       "      <td>-0.338481</td>\n",
       "      <td>1.000000</td>\n",
       "      <td>-0.369226</td>\n",
       "      <td>0.083081</td>\n",
       "      <td>0.018443</td>\n",
       "      <td>-0.549500</td>\n",
       "      <td>0.094035</td>\n",
       "      <td>0.135207</td>\n",
       "    </tr>\n",
       "    <tr>\n",
       "      <th>age</th>\n",
       "      <td>-0.077221</td>\n",
       "      <td>-0.369226</td>\n",
       "      <td>1.000000</td>\n",
       "      <td>-0.308247</td>\n",
       "      <td>-0.189119</td>\n",
       "      <td>0.096067</td>\n",
       "      <td>0.280328</td>\n",
       "      <td>0.198270</td>\n",
       "    </tr>\n",
       "    <tr>\n",
       "      <th>sibsp</th>\n",
       "      <td>-0.035322</td>\n",
       "      <td>0.083081</td>\n",
       "      <td>-0.308247</td>\n",
       "      <td>1.000000</td>\n",
       "      <td>0.414838</td>\n",
       "      <td>0.159651</td>\n",
       "      <td>-0.253586</td>\n",
       "      <td>-0.584471</td>\n",
       "    </tr>\n",
       "    <tr>\n",
       "      <th>parch</th>\n",
       "      <td>0.081629</td>\n",
       "      <td>0.018443</td>\n",
       "      <td>-0.189119</td>\n",
       "      <td>0.414838</td>\n",
       "      <td>1.000000</td>\n",
       "      <td>0.216225</td>\n",
       "      <td>-0.349943</td>\n",
       "      <td>-0.583398</td>\n",
       "    </tr>\n",
       "    <tr>\n",
       "      <th>fare</th>\n",
       "      <td>0.257307</td>\n",
       "      <td>-0.549500</td>\n",
       "      <td>0.096067</td>\n",
       "      <td>0.159651</td>\n",
       "      <td>0.216225</td>\n",
       "      <td>1.000000</td>\n",
       "      <td>-0.182024</td>\n",
       "      <td>-0.271832</td>\n",
       "    </tr>\n",
       "    <tr>\n",
       "      <th>adult_male</th>\n",
       "      <td>-0.557080</td>\n",
       "      <td>0.094035</td>\n",
       "      <td>0.280328</td>\n",
       "      <td>-0.253586</td>\n",
       "      <td>-0.349943</td>\n",
       "      <td>-0.182024</td>\n",
       "      <td>1.000000</td>\n",
       "      <td>0.404744</td>\n",
       "    </tr>\n",
       "    <tr>\n",
       "      <th>alone</th>\n",
       "      <td>-0.203367</td>\n",
       "      <td>0.135207</td>\n",
       "      <td>0.198270</td>\n",
       "      <td>-0.584471</td>\n",
       "      <td>-0.583398</td>\n",
       "      <td>-0.271832</td>\n",
       "      <td>0.404744</td>\n",
       "      <td>1.000000</td>\n",
       "    </tr>\n",
       "  </tbody>\n",
       "</table>\n",
       "</div>"
      ],
      "text/plain": [
       "            survived    pclass       age     sibsp     parch      fare  \\\n",
       "survived    1.000000 -0.338481 -0.077221 -0.035322  0.081629  0.257307   \n",
       "pclass     -0.338481  1.000000 -0.369226  0.083081  0.018443 -0.549500   \n",
       "age        -0.077221 -0.369226  1.000000 -0.308247 -0.189119  0.096067   \n",
       "sibsp      -0.035322  0.083081 -0.308247  1.000000  0.414838  0.159651   \n",
       "parch       0.081629  0.018443 -0.189119  0.414838  1.000000  0.216225   \n",
       "fare        0.257307 -0.549500  0.096067  0.159651  0.216225  1.000000   \n",
       "adult_male -0.557080  0.094035  0.280328 -0.253586 -0.349943 -0.182024   \n",
       "alone      -0.203367  0.135207  0.198270 -0.584471 -0.583398 -0.271832   \n",
       "\n",
       "            adult_male     alone  \n",
       "survived     -0.557080 -0.203367  \n",
       "pclass        0.094035  0.135207  \n",
       "age           0.280328  0.198270  \n",
       "sibsp        -0.253586 -0.584471  \n",
       "parch        -0.349943 -0.583398  \n",
       "fare         -0.182024 -0.271832  \n",
       "adult_male    1.000000  0.404744  \n",
       "alone         0.404744  1.000000  "
      ]
     },
     "execution_count": 10,
     "metadata": {},
     "output_type": "execute_result"
    }
   ],
   "source": [
    "df.corr()"
   ]
  },
  {
   "cell_type": "code",
   "execution_count": 34,
   "metadata": {
    "colab": {
     "base_uri": "https://localhost:8080/"
    },
    "executionInfo": {
     "elapsed": 19,
     "status": "ok",
     "timestamp": 1685246834607,
     "user": {
      "displayName": "Kapil",
      "userId": "17476189774344634490"
     },
     "user_tz": -330
    },
    "id": "vCubQbpezoyG",
    "outputId": "2f88ffbe-d43c-4b5d-96d6-a27294518006"
   },
   "outputs": [
    {
     "data": {
      "text/plain": [
       "Third     491\n",
       "First     216\n",
       "Second    184\n",
       "Name: class, dtype: int64"
      ]
     },
     "execution_count": 34,
     "metadata": {},
     "output_type": "execute_result"
    }
   ],
   "source": [
    "df['class'].value_counts()"
   ]
  },
  {
   "cell_type": "code",
   "execution_count": 35,
   "metadata": {
    "colab": {
     "base_uri": "https://localhost:8080/"
    },
    "executionInfo": {
     "elapsed": 17,
     "status": "ok",
     "timestamp": 1685246834607,
     "user": {
      "displayName": "Kapil",
      "userId": "17476189774344634490"
     },
     "user_tz": -330
    },
    "id": "zrfC7JAKzuj-",
    "outputId": "e2d4bf1e-32cb-4d0b-e9d2-88562b3831dd"
   },
   "outputs": [
    {
     "data": {
      "text/plain": [
       "no     549\n",
       "yes    342\n",
       "Name: alive, dtype: int64"
      ]
     },
     "execution_count": 35,
     "metadata": {},
     "output_type": "execute_result"
    }
   ],
   "source": [
    "df['alive'].value_counts()"
   ]
  },
  {
   "cell_type": "markdown",
   "metadata": {
    "id": "qC6Fl2bIiU27"
   },
   "source": [
    "# Outliers"
   ]
  },
  {
   "cell_type": "code",
   "execution_count": 36,
   "metadata": {
    "colab": {
     "base_uri": "https://localhost:8080/",
     "height": 447
    },
    "executionInfo": {
     "elapsed": 8,
     "status": "ok",
     "timestamp": 1685246842716,
     "user": {
      "displayName": "Kapil",
      "userId": "17476189774344634490"
     },
     "user_tz": -330
    },
    "id": "ElRv3JyGiWz5",
    "outputId": "ae6fac8d-d25a-4734-cf64-172dee853954"
   },
   "outputs": [
    {
     "data": {
      "text/plain": [
       "<Axes: >"
      ]
     },
     "execution_count": 36,
     "metadata": {},
     "output_type": "execute_result"
    },
    {
     "data": {
      "image/png": "[encoded data removed]",
      "text/plain": [
       "<Figure size 640x480 with 1 Axes>"
      ]
     },
     "metadata": {},
     "output_type": "display_data"
    }
   ],
   "source": [
    "sns.boxplot(df['fare'])"
   ]
  },
  {
   "cell_type": "code",
   "execution_count": 37,
   "metadata": {
    "id": "GZKdWXqBiitz"
   },
   "outputs": [],
   "source": [
    "# We'll replce the outliers value with upper_extreme when value > upper_extreme\n",
    "# We'll replce the outliers value with lower_extreme when value < lower_extreme \n",
    "\n",
    "Q1 = df['fare'].quantile(0.25)\n",
    "Q3 = df['fare'].quantile(0.75)\n",
    "IQR = Q3 - Q1\n",
    "l_e = Q1 -(1.5*IQR)\n",
    "u_e = Q3 + (1.5*IQR)\n",
    "df['fare']=np.where(df['fare']>u_e,u_e,np.where(df['fare']<l_e,l_e,df['fare']))"
   ]
  },
  {
   "cell_type": "code",
   "execution_count": 38,
   "metadata": {
    "colab": {
     "base_uri": "https://localhost:8080/",
     "height": 447
    },
    "executionInfo": {
     "elapsed": 9,
     "status": "ok",
     "timestamp": 1685248459805,
     "user": {
      "displayName": "Kapil",
      "userId": "17476189774344634490"
     },
     "user_tz": -330
    },
    "id": "6gqm6OulmVDQ",
    "outputId": "1472587a-5004-4249-c168-a245bb8f2bb5"
   },
   "outputs": [
    {
     "data": {
      "text/plain": [
       "<Axes: >"
      ]
     },
     "execution_count": 38,
     "metadata": {},
     "output_type": "execute_result"
    },
    {
     "data": {
      "image/png": "[encoded data removed]",
      "text/plain": [
       "<Figure size 640x480 with 1 Axes>"
      ]
     },
     "metadata": {},
     "output_type": "display_data"
    }
   ],
   "source": [
    "sns.boxplot(df['fare'])"
   ]
  },
  {
   "cell_type": "code",
   "execution_count": 39,
   "metadata": {
    "colab": {
     "base_uri": "https://localhost:8080/",
     "height": 447
    },
    "executionInfo": {
     "elapsed": 528,
     "status": "ok",
     "timestamp": 1685248461829,
     "user": {
      "displayName": "Kapil",
      "userId": "17476189774344634490"
     },
     "user_tz": -330
    },
    "id": "WoJ9oSsXmZcI",
    "outputId": "64ba32ae-32ab-4f7b-e3cf-be99f9645516"
   },
   "outputs": [
    {
     "data": {
      "text/plain": [
       "<Axes: >"
      ]
     },
     "execution_count": 39,
     "metadata": {},
     "output_type": "execute_result"
    },
    {
     "data": {
      "image/png": "[encoded data removed]",
      "text/plain": [
       "<Figure size 640x480 with 1 Axes>"
      ]
     },
     "metadata": {},
     "output_type": "display_data"
    }
   ],
   "source": [
    "sns.boxplot(df['age'])"
   ]
  },
  {
   "cell_type": "code",
   "execution_count": 40,
   "metadata": {
    "id": "mrCfZz3fmdlZ"
   },
   "outputs": [],
   "source": [
    "Q1 = df['age'].quantile(0.25)\n",
    "Q3 = df['age'].quantile(0.75)\n",
    "IQR = Q3-Q1\n",
    "l_e = Q1 - (1.5*IQR)\n",
    "u_e = Q1 + (1.5*IQR)\n",
    "df['age'] = np.where(df['age']>u_e,u_e,np.where(df['age']<l_e,l_e,df['age']))"
   ]
  },
  {
   "cell_type": "code",
   "execution_count": 41,
   "metadata": {
    "colab": {
     "base_uri": "https://localhost:8080/",
     "height": 447
    },
    "executionInfo": {
     "elapsed": 497,
     "status": "ok",
     "timestamp": 1685248468872,
     "user": {
      "displayName": "Kapil",
      "userId": "17476189774344634490"
     },
     "user_tz": -330
    },
    "id": "B9wiTyw_nPSW",
    "outputId": "acb75a1a-9887-41d9-8e3d-27552e9906c9"
   },
   "outputs": [
    {
     "data": {
      "text/plain": [
       "<Axes: >"
      ]
     },
     "execution_count": 41,
     "metadata": {},
     "output_type": "execute_result"
    },
    {
     "data": {
      "image/png": "[encoded data removed]",
      "text/plain": [
       "<Figure size 640x480 with 1 Axes>"
      ]
     },
     "metadata": {},
     "output_type": "display_data"
    }
   ],
   "source": [
    "sns.boxplot(df['age'])"
   ]
  },
  {
   "cell_type": "code",
   "execution_count": 42,
   "metadata": {
    "colab": {
     "base_uri": "https://localhost:8080/",
     "height": 447
    },
    "executionInfo": {
     "elapsed": 738,
     "status": "ok",
     "timestamp": 1685248470966,
     "user": {
      "displayName": "Kapil",
      "userId": "17476189774344634490"
     },
     "user_tz": -330
    },
    "id": "idHCkj-OnUdC",
    "outputId": "135e4a62-8016-451e-c96f-97b77aa846d0"
   },
   "outputs": [
    {
     "data": {
      "text/plain": [
       "<Axes: >"
      ]
     },
     "execution_count": 42,
     "metadata": {},
     "output_type": "execute_result"
    },
    {
     "data": {
      "image/png": "[encoded data removed]",
      "text/plain": [
       "<Figure size 640x480 with 1 Axes>"
      ]
     },
     "metadata": {},
     "output_type": "display_data"
    }
   ],
   "source": [
    "sns.boxplot(df['sibsp'])"
   ]
  },
  {
   "cell_type": "code",
   "execution_count": 43,
   "metadata": {
    "id": "s-XX546Dncov"
   },
   "outputs": [],
   "source": [
    "Q1 = df['sibsp'].quantile(0.25)\n",
    "Q3 = df['sibsp'].quantile(0.75)\n",
    "IQR = Q3-Q1\n",
    "l_e = Q1 - (1.5*IQR)\n",
    "u_e = Q1 + (1.5*IQR)\n",
    "df['sibsp'] = np.where(df['sibsp']>u_e,u_e,np.where(df['sibsp']<l_e,l_e,df['sibsp']))"
   ]
  },
  {
   "cell_type": "code",
   "execution_count": 44,
   "metadata": {
    "colab": {
     "base_uri": "https://localhost:8080/",
     "height": 447
    },
    "executionInfo": {
     "elapsed": 4,
     "status": "ok",
     "timestamp": 1685248472666,
     "user": {
      "displayName": "Kapil",
      "userId": "17476189774344634490"
     },
     "user_tz": -330
    },
    "id": "TypAiVflnmgu",
    "outputId": "ed8a9444-fab0-40be-feb6-f8a8db4668be"
   },
   "outputs": [
    {
     "data": {
      "text/plain": [
       "<Axes: >"
      ]
     },
     "execution_count": 44,
     "metadata": {},
     "output_type": "execute_result"
    },
    {
     "data": {
      "image/png": "[encoded data removed]",
      "text/plain": [
       "<Figure size 640x480 with 1 Axes>"
      ]
     },
     "metadata": {},
     "output_type": "display_data"
    }
   ],
   "source": [
    "sns.boxplot(df['sibsp'])"
   ]
  },
  {
   "cell_type": "code",
   "execution_count": 45,
   "metadata": {
    "colab": {
     "base_uri": "https://localhost:8080/",
     "height": 447
    },
    "executionInfo": {
     "elapsed": 695,
     "status": "ok",
     "timestamp": 1685248473807,
     "user": {
      "displayName": "Kapil",
      "userId": "17476189774344634490"
     },
     "user_tz": -330
    },
    "id": "RkKrbbTjnqrI",
    "outputId": "5cc5d2d5-e538-4629-e3cf-9c2fd6e6a291"
   },
   "outputs": [
    {
     "data": {
      "text/plain": [
       "<Axes: >"
      ]
     },
     "execution_count": 45,
     "metadata": {},
     "output_type": "execute_result"
    },
    {
     "data": {
      "image/png": "[encoded data removed]",
      "text/plain": [
       "<Figure size 640x480 with 1 Axes>"
      ]
     },
     "metadata": {},
     "output_type": "display_data"
    }
   ],
   "source": [
    "sns.boxplot(df['parch'])"
   ]
  },
  {
   "cell_type": "code",
   "execution_count": 46,
   "metadata": {
    "id": "guC370BQnwpJ"
   },
   "outputs": [],
   "source": [
    "Q1 = df['parch'].quantile(0.25)\n",
    "Q3 = df['parch'].quantile(0.75)\n",
    "IQR = Q3-Q1\n",
    "l_e = Q1 - (1.5*IQR)\n",
    "u_e = Q1 + (1.5*IQR)\n",
    "df['parch'] = np.where(df['parch']>u_e,u_e,np.where(df['parch']<l_e,l_e,df['parch']))"
   ]
  },
  {
   "cell_type": "code",
   "execution_count": 47,
   "metadata": {
    "colab": {
     "base_uri": "https://localhost:8080/",
     "height": 447
    },
    "executionInfo": {
     "elapsed": 12,
     "status": "ok",
     "timestamp": 1685248474725,
     "user": {
      "displayName": "Kapil",
      "userId": "17476189774344634490"
     },
     "user_tz": -330
    },
    "id": "361jotCzn6QW",
    "outputId": "a0e9c5e2-734f-4189-d94e-4058894a15cb"
   },
   "outputs": [
    {
     "data": {
      "text/plain": [
       "<Axes: >"
      ]
     },
     "execution_count": 47,
     "metadata": {},
     "output_type": "execute_result"
    },
    {
     "data": {
      "image/png": "[encoded data removed]",
      "text/plain": [
       "<Figure size 640x480 with 1 Axes>"
      ]
     },
     "metadata": {},
     "output_type": "display_data"
    }
   ],
   "source": [
    "sns.boxplot(df['parch'])"
   ]
  },
  {
   "cell_type": "code",
   "execution_count": 48,
   "metadata": {
    "colab": {
     "base_uri": "https://localhost:8080/",
     "height": 447
    },
    "executionInfo": {
     "elapsed": 686,
     "status": "ok",
     "timestamp": 1685248475403,
     "user": {
      "displayName": "Kapil",
      "userId": "17476189774344634490"
     },
     "user_tz": -330
    },
    "id": "GWr_16vbn9t0",
    "outputId": "ced50cc1-b29c-4898-fa62-85044742d163"
   },
   "outputs": [
    {
     "data": {
      "text/plain": [
       "<Axes: >"
      ]
     },
     "execution_count": 48,
     "metadata": {},
     "output_type": "execute_result"
    },
    {
     "data": {
      "image/png": "[encoded data removed]",
      "text/plain": [
       "<Figure size 640x480 with 1 Axes>"
      ]
     },
     "metadata": {},
     "output_type": "display_data"
    }
   ],
   "source": [
    "sns.boxplot(df)  #No more outliers"
   ]
  },
  {
   "cell_type": "markdown",
   "metadata": {
    "id": "XTG7yipQoxTf"
   },
   "source": [
    "# Encoding"
   ]
  },
  {
   "cell_type": "code",
   "execution_count": 49,
   "metadata": {
    "id": "0zlNBX4aovo6"
   },
   "outputs": [],
   "source": [
    "LE = LabelEncoder()"
   ]
  },
  {
   "cell_type": "code",
   "execution_count": 50,
   "metadata": {
    "colab": {
     "base_uri": "https://localhost:8080/"
    },
    "executionInfo": {
     "elapsed": 455,
     "status": "ok",
     "timestamp": 1685248661907,
     "user": {
      "displayName": "Kapil",
      "userId": "17476189774344634490"
     },
     "user_tz": -330
    },
    "id": "TEhkX82BpTa-",
    "outputId": "39fed5d6-9ec7-4758-d925-db15601446af"
   },
   "outputs": [
    {
     "name": "stdout",
     "output_type": "stream",
     "text": [
      "<class 'pandas.core.frame.DataFrame'>\n",
      "RangeIndex: 891 entries, 0 to 890\n",
      "Data columns (total 14 columns):\n",
      " #   Column       Non-Null Count  Dtype  \n",
      "---  ------       --------------  -----  \n",
      " 0   survived     891 non-null    int64  \n",
      " 1   pclass       891 non-null    int64  \n",
      " 2   sex          891 non-null    object \n",
      " 3   age          891 non-null    float64\n",
      " 4   sibsp        891 non-null    float64\n",
      " 5   parch        891 non-null    float64\n",
      " 6   fare         891 non-null    float64\n",
      " 7   embarked     891 non-null    object \n",
      " 8   class        891 non-null    object \n",
      " 9   who          891 non-null    object \n",
      " 10  adult_male   891 non-null    bool   \n",
      " 11  embark_town  891 non-null    object \n",
      " 12  alive        891 non-null    object \n",
      " 13  alone        891 non-null    bool   \n",
      "dtypes: bool(2), float64(4), int64(2), object(6)\n",
      "memory usage: 85.4+ KB\n"
     ]
    }
   ],
   "source": [
    "df.info() #object dtype are categorical and even bool needs to be changed"
   ]
  },
  {
   "cell_type": "code",
   "execution_count": 51,
   "metadata": {
    "id": "tuZPHqsPpdOx"
   },
   "outputs": [],
   "source": [
    "df['sex'] = LE.fit_transform(df['sex'])\n",
    "df['embarked'] = LE.fit_transform(df['embarked'])\n",
    "df['class'] = LE.fit_transform(df['class'])\n",
    "df['who'] = LE.fit_transform(df['who'])\n",
    "df['embark_town'] = LE.fit_transform(df['embark_town'])\n",
    "df['alive'] = LE.fit_transform(df['alive'])\n",
    "df['adult_male'] = LE.fit_transform(df['adult_male'])\n",
    "df['alone'] = LE.fit_transform(df['alone'])"
   ]
  },
  {
   "cell_type": "code",
   "execution_count": 52,
   "metadata": {
    "colab": {
     "base_uri": "https://localhost:8080/",
     "height": 206
    },
    "executionInfo": {
     "elapsed": 647,
     "status": "ok",
     "timestamp": 1685248847195,
     "user": {
      "displayName": "Kapil",
      "userId": "17476189774344634490"
     },
     "user_tz": -330
    },
    "id": "4fzt1sOppkZE",
    "outputId": "305e6711-ae08-4c50-8016-64a6044f5019"
   },
   "outputs": [
    {
     "data": {
      "text/html": [
       "<div>\n",
       "<style scoped>\n",
       "    .dataframe tbody tr th:only-of-type {\n",
       "        vertical-align: middle;\n",
       "    }\n",
       "\n",
       "    .dataframe tbody tr th {\n",
       "        vertical-align: top;\n",
       "    }\n",
       "\n",
       "    .dataframe thead th {\n",
       "        text-align: right;\n",
       "    }\n",
       "</style>\n",
       "<table border=\"1\" class=\"dataframe\">\n",
       "  <thead>\n",
       "    <tr style=\"text-align: right;\">\n",
       "      <th></th>\n",
       "      <th>survived</th>\n",
       "      <th>pclass</th>\n",
       "      <th>sex</th>\n",
       "      <th>age</th>\n",
       "      <th>sibsp</th>\n",
       "      <th>parch</th>\n",
       "      <th>fare</th>\n",
       "      <th>embarked</th>\n",
       "      <th>class</th>\n",
       "      <th>who</th>\n",
       "      <th>adult_male</th>\n",
       "      <th>embark_town</th>\n",
       "      <th>alive</th>\n",
       "      <th>alone</th>\n",
       "    </tr>\n",
       "  </thead>\n",
       "  <tbody>\n",
       "    <tr>\n",
       "      <th>0</th>\n",
       "      <td>0</td>\n",
       "      <td>3</td>\n",
       "      <td>1</td>\n",
       "      <td>22.0</td>\n",
       "      <td>1.0</td>\n",
       "      <td>0.0</td>\n",
       "      <td>7.2500</td>\n",
       "      <td>2</td>\n",
       "      <td>2</td>\n",
       "      <td>1</td>\n",
       "      <td>1</td>\n",
       "      <td>2</td>\n",
       "      <td>0</td>\n",
       "      <td>0</td>\n",
       "    </tr>\n",
       "    <tr>\n",
       "      <th>1</th>\n",
       "      <td>1</td>\n",
       "      <td>1</td>\n",
       "      <td>0</td>\n",
       "      <td>38.0</td>\n",
       "      <td>1.0</td>\n",
       "      <td>0.0</td>\n",
       "      <td>65.6344</td>\n",
       "      <td>0</td>\n",
       "      <td>0</td>\n",
       "      <td>2</td>\n",
       "      <td>0</td>\n",
       "      <td>0</td>\n",
       "      <td>1</td>\n",
       "      <td>0</td>\n",
       "    </tr>\n",
       "    <tr>\n",
       "      <th>2</th>\n",
       "      <td>1</td>\n",
       "      <td>3</td>\n",
       "      <td>0</td>\n",
       "      <td>26.0</td>\n",
       "      <td>0.0</td>\n",
       "      <td>0.0</td>\n",
       "      <td>7.9250</td>\n",
       "      <td>2</td>\n",
       "      <td>2</td>\n",
       "      <td>2</td>\n",
       "      <td>0</td>\n",
       "      <td>2</td>\n",
       "      <td>1</td>\n",
       "      <td>1</td>\n",
       "    </tr>\n",
       "    <tr>\n",
       "      <th>3</th>\n",
       "      <td>1</td>\n",
       "      <td>1</td>\n",
       "      <td>0</td>\n",
       "      <td>35.0</td>\n",
       "      <td>1.0</td>\n",
       "      <td>0.0</td>\n",
       "      <td>53.1000</td>\n",
       "      <td>2</td>\n",
       "      <td>0</td>\n",
       "      <td>2</td>\n",
       "      <td>0</td>\n",
       "      <td>2</td>\n",
       "      <td>1</td>\n",
       "      <td>0</td>\n",
       "    </tr>\n",
       "    <tr>\n",
       "      <th>4</th>\n",
       "      <td>0</td>\n",
       "      <td>3</td>\n",
       "      <td>1</td>\n",
       "      <td>35.0</td>\n",
       "      <td>0.0</td>\n",
       "      <td>0.0</td>\n",
       "      <td>8.0500</td>\n",
       "      <td>2</td>\n",
       "      <td>2</td>\n",
       "      <td>1</td>\n",
       "      <td>1</td>\n",
       "      <td>2</td>\n",
       "      <td>0</td>\n",
       "      <td>1</td>\n",
       "    </tr>\n",
       "  </tbody>\n",
       "</table>\n",
       "</div>"
      ],
      "text/plain": [
       "   survived  pclass  sex   age  sibsp  parch     fare  embarked  class  who  \\\n",
       "0         0       3    1  22.0    1.0    0.0   7.2500         2      2    1   \n",
       "1         1       1    0  38.0    1.0    0.0  65.6344         0      0    2   \n",
       "2         1       3    0  26.0    0.0    0.0   7.9250         2      2    2   \n",
       "3         1       1    0  35.0    1.0    0.0  53.1000         2      0    2   \n",
       "4         0       3    1  35.0    0.0    0.0   8.0500         2      2    1   \n",
       "\n",
       "   adult_male  embark_town  alive  alone  \n",
       "0           1            2      0      0  \n",
       "1           0            0      1      0  \n",
       "2           0            2      1      1  \n",
       "3           0            2      1      0  \n",
       "4           1            2      0      1  "
      ]
     },
     "execution_count": 52,
     "metadata": {},
     "output_type": "execute_result"
    }
   ],
   "source": [
    "df.head()"
   ]
  },
  {
   "cell_type": "markdown",
   "metadata": {
    "id": "bt_SKld7qOxB"
   },
   "source": [
    "# Splitting into dependent and independent variables"
   ]
  },
  {
   "cell_type": "code",
   "execution_count": 53,
   "metadata": {
    "id": "ElqJKQnrqOek"
   },
   "outputs": [],
   "source": [
    "# Here our main goal is to find whether the people survived or not and that is our target variable(y) so y is survived and x is rest"
   ]
  },
  {
   "cell_type": "code",
   "execution_count": 54,
   "metadata": {
    "id": "5F_8wxDxp7Dy"
   },
   "outputs": [],
   "source": [
    "y = df['survived']\n",
    "x = df.drop(columns=['survived'])"
   ]
  },
  {
   "cell_type": "code",
   "execution_count": 55,
   "metadata": {
    "colab": {
     "base_uri": "https://localhost:8080/",
     "height": 206
    },
    "executionInfo": {
     "elapsed": 6,
     "status": "ok",
     "timestamp": 1685249071604,
     "user": {
      "displayName": "Kapil",
      "userId": "17476189774344634490"
     },
     "user_tz": -330
    },
    "id": "ZzTRM90Wqst1",
    "outputId": "db5bfed1-d744-469e-dd07-7886cbf9927c"
   },
   "outputs": [
    {
     "data": {
      "text/html": [
       "<div>\n",
       "<style scoped>\n",
       "    .dataframe tbody tr th:only-of-type {\n",
       "        vertical-align: middle;\n",
       "    }\n",
       "\n",
       "    .dataframe tbody tr th {\n",
       "        vertical-align: top;\n",
       "    }\n",
       "\n",
       "    .dataframe thead th {\n",
       "        text-align: right;\n",
       "    }\n",
       "</style>\n",
       "<table border=\"1\" class=\"dataframe\">\n",
       "  <thead>\n",
       "    <tr style=\"text-align: right;\">\n",
       "      <th></th>\n",
       "      <th>pclass</th>\n",
       "      <th>sex</th>\n",
       "      <th>age</th>\n",
       "      <th>sibsp</th>\n",
       "      <th>parch</th>\n",
       "      <th>fare</th>\n",
       "      <th>embarked</th>\n",
       "      <th>class</th>\n",
       "      <th>who</th>\n",
       "      <th>adult_male</th>\n",
       "      <th>embark_town</th>\n",
       "      <th>alive</th>\n",
       "      <th>alone</th>\n",
       "    </tr>\n",
       "  </thead>\n",
       "  <tbody>\n",
       "    <tr>\n",
       "      <th>0</th>\n",
       "      <td>3</td>\n",
       "      <td>1</td>\n",
       "      <td>22.0</td>\n",
       "      <td>1.0</td>\n",
       "      <td>0.0</td>\n",
       "      <td>7.2500</td>\n",
       "      <td>2</td>\n",
       "      <td>2</td>\n",
       "      <td>1</td>\n",
       "      <td>1</td>\n",
       "      <td>2</td>\n",
       "      <td>0</td>\n",
       "      <td>0</td>\n",
       "    </tr>\n",
       "    <tr>\n",
       "      <th>1</th>\n",
       "      <td>1</td>\n",
       "      <td>0</td>\n",
       "      <td>38.0</td>\n",
       "      <td>1.0</td>\n",
       "      <td>0.0</td>\n",
       "      <td>65.6344</td>\n",
       "      <td>0</td>\n",
       "      <td>0</td>\n",
       "      <td>2</td>\n",
       "      <td>0</td>\n",
       "      <td>0</td>\n",
       "      <td>1</td>\n",
       "      <td>0</td>\n",
       "    </tr>\n",
       "    <tr>\n",
       "      <th>2</th>\n",
       "      <td>3</td>\n",
       "      <td>0</td>\n",
       "      <td>26.0</td>\n",
       "      <td>0.0</td>\n",
       "      <td>0.0</td>\n",
       "      <td>7.9250</td>\n",
       "      <td>2</td>\n",
       "      <td>2</td>\n",
       "      <td>2</td>\n",
       "      <td>0</td>\n",
       "      <td>2</td>\n",
       "      <td>1</td>\n",
       "      <td>1</td>\n",
       "    </tr>\n",
       "    <tr>\n",
       "      <th>3</th>\n",
       "      <td>1</td>\n",
       "      <td>0</td>\n",
       "      <td>35.0</td>\n",
       "      <td>1.0</td>\n",
       "      <td>0.0</td>\n",
       "      <td>53.1000</td>\n",
       "      <td>2</td>\n",
       "      <td>0</td>\n",
       "      <td>2</td>\n",
       "      <td>0</td>\n",
       "      <td>2</td>\n",
       "      <td>1</td>\n",
       "      <td>0</td>\n",
       "    </tr>\n",
       "    <tr>\n",
       "      <th>4</th>\n",
       "      <td>3</td>\n",
       "      <td>1</td>\n",
       "      <td>35.0</td>\n",
       "      <td>0.0</td>\n",
       "      <td>0.0</td>\n",
       "      <td>8.0500</td>\n",
       "      <td>2</td>\n",
       "      <td>2</td>\n",
       "      <td>1</td>\n",
       "      <td>1</td>\n",
       "      <td>2</td>\n",
       "      <td>0</td>\n",
       "      <td>1</td>\n",
       "    </tr>\n",
       "  </tbody>\n",
       "</table>\n",
       "</div>"
      ],
      "text/plain": [
       "   pclass  sex   age  sibsp  parch     fare  embarked  class  who  adult_male  \\\n",
       "0       3    1  22.0    1.0    0.0   7.2500         2      2    1           1   \n",
       "1       1    0  38.0    1.0    0.0  65.6344         0      0    2           0   \n",
       "2       3    0  26.0    0.0    0.0   7.9250         2      2    2           0   \n",
       "3       1    0  35.0    1.0    0.0  53.1000         2      0    2           0   \n",
       "4       3    1  35.0    0.0    0.0   8.0500         2      2    1           1   \n",
       "\n",
       "   embark_town  alive  alone  \n",
       "0            2      0      0  \n",
       "1            0      1      0  \n",
       "2            2      1      1  \n",
       "3            2      1      0  \n",
       "4            2      0      1  "
      ]
     },
     "execution_count": 55,
     "metadata": {},
     "output_type": "execute_result"
    }
   ],
   "source": [
    "x.head()"
   ]
  },
  {
   "cell_type": "code",
   "execution_count": 56,
   "metadata": {
    "colab": {
     "base_uri": "https://localhost:8080/"
    },
    "executionInfo": {
     "elapsed": 5,
     "status": "ok",
     "timestamp": 1685249076118,
     "user": {
      "displayName": "Kapil",
      "userId": "17476189774344634490"
     },
     "user_tz": -330
    },
    "id": "C4a45DVlqtj6",
    "outputId": "95ad85ff-8977-46c1-a312-3033f0ff599c"
   },
   "outputs": [
    {
     "data": {
      "text/plain": [
       "0    0\n",
       "1    1\n",
       "2    1\n",
       "3    1\n",
       "4    0\n",
       "Name: survived, dtype: int64"
      ]
     },
     "execution_count": 56,
     "metadata": {},
     "output_type": "execute_result"
    }
   ],
   "source": [
    "y.head()"
   ]
  },
  {
   "cell_type": "markdown",
   "metadata": {
    "id": "h5WmVrpNrI2r"
   },
   "source": [
    "# Scaling"
   ]
  },
  {
   "cell_type": "code",
   "execution_count": 57,
   "metadata": {
    "colab": {
     "base_uri": "https://localhost:8080/",
     "height": 423
    },
    "executionInfo": {
     "elapsed": 614,
     "status": "ok",
     "timestamp": 1685249285880,
     "user": {
      "displayName": "Kapil",
      "userId": "17476189774344634490"
     },
     "user_tz": -330
    },
    "id": "CKtHRQM8quey",
    "outputId": "ee86378f-4393-4a0b-b845-508d6fff5019"
   },
   "outputs": [
    {
     "data": {
      "text/html": [
       "<div>\n",
       "<style scoped>\n",
       "    .dataframe tbody tr th:only-of-type {\n",
       "        vertical-align: middle;\n",
       "    }\n",
       "\n",
       "    .dataframe tbody tr th {\n",
       "        vertical-align: top;\n",
       "    }\n",
       "\n",
       "    .dataframe thead th {\n",
       "        text-align: right;\n",
       "    }\n",
       "</style>\n",
       "<table border=\"1\" class=\"dataframe\">\n",
       "  <thead>\n",
       "    <tr style=\"text-align: right;\">\n",
       "      <th></th>\n",
       "      <th>pclass</th>\n",
       "      <th>sex</th>\n",
       "      <th>age</th>\n",
       "      <th>sibsp</th>\n",
       "      <th>parch</th>\n",
       "      <th>fare</th>\n",
       "      <th>embarked</th>\n",
       "      <th>class</th>\n",
       "      <th>who</th>\n",
       "      <th>adult_male</th>\n",
       "      <th>embark_town</th>\n",
       "      <th>alive</th>\n",
       "      <th>alone</th>\n",
       "    </tr>\n",
       "  </thead>\n",
       "  <tbody>\n",
       "    <tr>\n",
       "      <th>0</th>\n",
       "      <td>0.827377</td>\n",
       "      <td>0.737695</td>\n",
       "      <td>-0.617133</td>\n",
       "      <td>1.185039</td>\n",
       "      <td>0.0</td>\n",
       "      <td>-0.820552</td>\n",
       "      <td>0.585954</td>\n",
       "      <td>0.827377</td>\n",
       "      <td>-0.355242</td>\n",
       "      <td>0.811922</td>\n",
       "      <td>0.585954</td>\n",
       "      <td>-0.789272</td>\n",
       "      <td>-1.231645</td>\n",
       "    </tr>\n",
       "    <tr>\n",
       "      <th>1</th>\n",
       "      <td>-1.566107</td>\n",
       "      <td>-1.355574</td>\n",
       "      <td>0.982185</td>\n",
       "      <td>1.185039</td>\n",
       "      <td>0.0</td>\n",
       "      <td>2.031623</td>\n",
       "      <td>-1.942303</td>\n",
       "      <td>-1.566107</td>\n",
       "      <td>1.328379</td>\n",
       "      <td>-1.231645</td>\n",
       "      <td>-1.942303</td>\n",
       "      <td>1.266990</td>\n",
       "      <td>-1.231645</td>\n",
       "    </tr>\n",
       "    <tr>\n",
       "      <th>2</th>\n",
       "      <td>0.827377</td>\n",
       "      <td>-1.355574</td>\n",
       "      <td>-0.217303</td>\n",
       "      <td>-0.664120</td>\n",
       "      <td>0.0</td>\n",
       "      <td>-0.787578</td>\n",
       "      <td>0.585954</td>\n",
       "      <td>0.827377</td>\n",
       "      <td>1.328379</td>\n",
       "      <td>-1.231645</td>\n",
       "      <td>0.585954</td>\n",
       "      <td>1.266990</td>\n",
       "      <td>0.811922</td>\n",
       "    </tr>\n",
       "    <tr>\n",
       "      <th>3</th>\n",
       "      <td>-1.566107</td>\n",
       "      <td>-1.355574</td>\n",
       "      <td>0.682313</td>\n",
       "      <td>1.185039</td>\n",
       "      <td>0.0</td>\n",
       "      <td>1.419297</td>\n",
       "      <td>0.585954</td>\n",
       "      <td>-1.566107</td>\n",
       "      <td>1.328379</td>\n",
       "      <td>-1.231645</td>\n",
       "      <td>0.585954</td>\n",
       "      <td>1.266990</td>\n",
       "      <td>-1.231645</td>\n",
       "    </tr>\n",
       "    <tr>\n",
       "      <th>4</th>\n",
       "      <td>0.827377</td>\n",
       "      <td>0.737695</td>\n",
       "      <td>0.682313</td>\n",
       "      <td>-0.664120</td>\n",
       "      <td>0.0</td>\n",
       "      <td>-0.781471</td>\n",
       "      <td>0.585954</td>\n",
       "      <td>0.827377</td>\n",
       "      <td>-0.355242</td>\n",
       "      <td>0.811922</td>\n",
       "      <td>0.585954</td>\n",
       "      <td>-0.789272</td>\n",
       "      <td>0.811922</td>\n",
       "    </tr>\n",
       "    <tr>\n",
       "      <th>...</th>\n",
       "      <td>...</td>\n",
       "      <td>...</td>\n",
       "      <td>...</td>\n",
       "      <td>...</td>\n",
       "      <td>...</td>\n",
       "      <td>...</td>\n",
       "      <td>...</td>\n",
       "      <td>...</td>\n",
       "      <td>...</td>\n",
       "      <td>...</td>\n",
       "      <td>...</td>\n",
       "      <td>...</td>\n",
       "      <td>...</td>\n",
       "    </tr>\n",
       "    <tr>\n",
       "      <th>886</th>\n",
       "      <td>-0.369365</td>\n",
       "      <td>0.737695</td>\n",
       "      <td>-0.117346</td>\n",
       "      <td>-0.664120</td>\n",
       "      <td>0.0</td>\n",
       "      <td>-0.539655</td>\n",
       "      <td>0.585954</td>\n",
       "      <td>-0.369365</td>\n",
       "      <td>-0.355242</td>\n",
       "      <td>0.811922</td>\n",
       "      <td>0.585954</td>\n",
       "      <td>-0.789272</td>\n",
       "      <td>0.811922</td>\n",
       "    </tr>\n",
       "    <tr>\n",
       "      <th>887</th>\n",
       "      <td>-1.566107</td>\n",
       "      <td>-1.355574</td>\n",
       "      <td>-0.917005</td>\n",
       "      <td>-0.664120</td>\n",
       "      <td>0.0</td>\n",
       "      <td>0.290823</td>\n",
       "      <td>0.585954</td>\n",
       "      <td>-1.566107</td>\n",
       "      <td>1.328379</td>\n",
       "      <td>-1.231645</td>\n",
       "      <td>0.585954</td>\n",
       "      <td>1.266990</td>\n",
       "      <td>0.811922</td>\n",
       "    </tr>\n",
       "    <tr>\n",
       "      <th>888</th>\n",
       "      <td>0.827377</td>\n",
       "      <td>-1.355574</td>\n",
       "      <td>0.182526</td>\n",
       "      <td>1.185039</td>\n",
       "      <td>0.0</td>\n",
       "      <td>-0.029155</td>\n",
       "      <td>0.585954</td>\n",
       "      <td>0.827377</td>\n",
       "      <td>1.328379</td>\n",
       "      <td>-1.231645</td>\n",
       "      <td>0.585954</td>\n",
       "      <td>-0.789272</td>\n",
       "      <td>-1.231645</td>\n",
       "    </tr>\n",
       "    <tr>\n",
       "      <th>889</th>\n",
       "      <td>-1.566107</td>\n",
       "      <td>0.737695</td>\n",
       "      <td>-0.217303</td>\n",
       "      <td>-0.664120</td>\n",
       "      <td>0.0</td>\n",
       "      <td>0.290823</td>\n",
       "      <td>-1.942303</td>\n",
       "      <td>-1.566107</td>\n",
       "      <td>-0.355242</td>\n",
       "      <td>0.811922</td>\n",
       "      <td>-1.942303</td>\n",
       "      <td>1.266990</td>\n",
       "      <td>0.811922</td>\n",
       "    </tr>\n",
       "    <tr>\n",
       "      <th>890</th>\n",
       "      <td>0.827377</td>\n",
       "      <td>0.737695</td>\n",
       "      <td>0.382441</td>\n",
       "      <td>-0.664120</td>\n",
       "      <td>0.0</td>\n",
       "      <td>-0.796127</td>\n",
       "      <td>-0.678175</td>\n",
       "      <td>0.827377</td>\n",
       "      <td>-0.355242</td>\n",
       "      <td>0.811922</td>\n",
       "      <td>-0.678175</td>\n",
       "      <td>-0.789272</td>\n",
       "      <td>0.811922</td>\n",
       "    </tr>\n",
       "  </tbody>\n",
       "</table>\n",
       "<p>891 rows × 13 columns</p>\n",
       "</div>"
      ],
      "text/plain": [
       "       pclass       sex       age     sibsp  parch      fare  embarked  \\\n",
       "0    0.827377  0.737695 -0.617133  1.185039    0.0 -0.820552  0.585954   \n",
       "1   -1.566107 -1.355574  0.982185  1.185039    0.0  2.031623 -1.942303   \n",
       "2    0.827377 -1.355574 -0.217303 -0.664120    0.0 -0.787578  0.585954   \n",
       "3   -1.566107 -1.355574  0.682313  1.185039    0.0  1.419297  0.585954   \n",
       "4    0.827377  0.737695  0.682313 -0.664120    0.0 -0.781471  0.585954   \n",
       "..        ...       ...       ...       ...    ...       ...       ...   \n",
       "886 -0.369365  0.737695 -0.117346 -0.664120    0.0 -0.539655  0.585954   \n",
       "887 -1.566107 -1.355574 -0.917005 -0.664120    0.0  0.290823  0.585954   \n",
       "888  0.827377 -1.355574  0.182526  1.185039    0.0 -0.029155  0.585954   \n",
       "889 -1.566107  0.737695 -0.217303 -0.664120    0.0  0.290823 -1.942303   \n",
       "890  0.827377  0.737695  0.382441 -0.664120    0.0 -0.796127 -0.678175   \n",
       "\n",
       "        class       who  adult_male  embark_town     alive     alone  \n",
       "0    0.827377 -0.355242    0.811922     0.585954 -0.789272 -1.231645  \n",
       "1   -1.566107  1.328379   -1.231645    -1.942303  1.266990 -1.231645  \n",
       "2    0.827377  1.328379   -1.231645     0.585954  1.266990  0.811922  \n",
       "3   -1.566107  1.328379   -1.231645     0.585954  1.266990 -1.231645  \n",
       "4    0.827377 -0.355242    0.811922     0.585954 -0.789272  0.811922  \n",
       "..        ...       ...         ...          ...       ...       ...  \n",
       "886 -0.369365 -0.355242    0.811922     0.585954 -0.789272  0.811922  \n",
       "887 -1.566107  1.328379   -1.231645     0.585954  1.266990  0.811922  \n",
       "888  0.827377  1.328379   -1.231645     0.585954 -0.789272 -1.231645  \n",
       "889 -1.566107 -0.355242    0.811922    -1.942303  1.266990  0.811922  \n",
       "890  0.827377 -0.355242    0.811922    -0.678175 -0.789272  0.811922  \n",
       "\n",
       "[891 rows x 13 columns]"
      ]
     },
     "execution_count": 57,
     "metadata": {},
     "output_type": "execute_result"
    }
   ],
   "source": [
    "name = x.columns\n",
    "SS = StandardScaler()\n",
    "z = SS.fit_transform(x)\n",
    "x = pd.DataFrame(z,columns=name)\n",
    "x"
   ]
  },
  {
   "cell_type": "markdown",
   "metadata": {
    "id": "vh5dINXKr4vc"
   },
   "source": [
    "# Train and Test Split"
   ]
  },
  {
   "cell_type": "code",
   "execution_count": 58,
   "metadata": {
    "executionInfo": {
     "elapsed": 3,
     "status": "ok",
     "timestamp": 1685249366824,
     "user": {
      "displayName": "Kapil",
      "userId": "17476189774344634490"
     },
     "user_tz": -330
    },
    "id": "loskVv5HrP_j"
   },
   "outputs": [],
   "source": [
    "x_train,x_test,y_train,y_test = train_test_split(x,y,test_size=0.2,random_state=0)"
   ]
  },
  {
   "cell_type": "code",
   "execution_count": 59,
   "metadata": {
    "colab": {
     "base_uri": "https://localhost:8080/",
     "height": 423
    },
    "executionInfo": {
     "elapsed": 486,
     "status": "ok",
     "timestamp": 1685249373604,
     "user": {
      "displayName": "Kapil",
      "userId": "17476189774344634490"
     },
     "user_tz": -330
    },
    "id": "C_W2xExasJZq",
    "outputId": "6dff944a-7c95-4571-f9b5-97852f316650"
   },
   "outputs": [
    {
     "data": {
      "text/html": [
       "<div>\n",
       "<style scoped>\n",
       "    .dataframe tbody tr th:only-of-type {\n",
       "        vertical-align: middle;\n",
       "    }\n",
       "\n",
       "    .dataframe tbody tr th {\n",
       "        vertical-align: top;\n",
       "    }\n",
       "\n",
       "    .dataframe thead th {\n",
       "        text-align: right;\n",
       "    }\n",
       "</style>\n",
       "<table border=\"1\" class=\"dataframe\">\n",
       "  <thead>\n",
       "    <tr style=\"text-align: right;\">\n",
       "      <th></th>\n",
       "      <th>pclass</th>\n",
       "      <th>sex</th>\n",
       "      <th>age</th>\n",
       "      <th>sibsp</th>\n",
       "      <th>parch</th>\n",
       "      <th>fare</th>\n",
       "      <th>embarked</th>\n",
       "      <th>class</th>\n",
       "      <th>who</th>\n",
       "      <th>adult_male</th>\n",
       "      <th>embark_town</th>\n",
       "      <th>alive</th>\n",
       "      <th>alone</th>\n",
       "    </tr>\n",
       "  </thead>\n",
       "  <tbody>\n",
       "    <tr>\n",
       "      <th>140</th>\n",
       "      <td>0.827377</td>\n",
       "      <td>-1.355574</td>\n",
       "      <td>0.182526</td>\n",
       "      <td>-0.664120</td>\n",
       "      <td>0.0</td>\n",
       "      <td>-0.429944</td>\n",
       "      <td>-1.942303</td>\n",
       "      <td>0.827377</td>\n",
       "      <td>1.328379</td>\n",
       "      <td>-1.231645</td>\n",
       "      <td>-1.942303</td>\n",
       "      <td>-0.789272</td>\n",
       "      <td>-1.231645</td>\n",
       "    </tr>\n",
       "    <tr>\n",
       "      <th>439</th>\n",
       "      <td>-0.369365</td>\n",
       "      <td>0.737695</td>\n",
       "      <td>0.282483</td>\n",
       "      <td>-0.664120</td>\n",
       "      <td>0.0</td>\n",
       "      <td>-0.661785</td>\n",
       "      <td>0.585954</td>\n",
       "      <td>-0.369365</td>\n",
       "      <td>-0.355242</td>\n",
       "      <td>0.811922</td>\n",
       "      <td>0.585954</td>\n",
       "      <td>-0.789272</td>\n",
       "      <td>0.811922</td>\n",
       "    </tr>\n",
       "    <tr>\n",
       "      <th>817</th>\n",
       "      <td>-0.369365</td>\n",
       "      <td>0.737695</td>\n",
       "      <td>0.282483</td>\n",
       "      <td>1.185039</td>\n",
       "      <td>0.0</td>\n",
       "      <td>0.632990</td>\n",
       "      <td>-1.942303</td>\n",
       "      <td>-0.369365</td>\n",
       "      <td>-0.355242</td>\n",
       "      <td>0.811922</td>\n",
       "      <td>-1.942303</td>\n",
       "      <td>-0.789272</td>\n",
       "      <td>-1.231645</td>\n",
       "    </tr>\n",
       "    <tr>\n",
       "      <th>378</th>\n",
       "      <td>0.827377</td>\n",
       "      <td>0.737695</td>\n",
       "      <td>-0.817048</td>\n",
       "      <td>-0.664120</td>\n",
       "      <td>0.0</td>\n",
       "      <td>-0.978710</td>\n",
       "      <td>-1.942303</td>\n",
       "      <td>0.827377</td>\n",
       "      <td>-0.355242</td>\n",
       "      <td>0.811922</td>\n",
       "      <td>-1.942303</td>\n",
       "      <td>-0.789272</td>\n",
       "      <td>0.811922</td>\n",
       "    </tr>\n",
       "    <tr>\n",
       "      <th>491</th>\n",
       "      <td>0.827377</td>\n",
       "      <td>0.737695</td>\n",
       "      <td>-0.717090</td>\n",
       "      <td>-0.664120</td>\n",
       "      <td>0.0</td>\n",
       "      <td>-0.820552</td>\n",
       "      <td>0.585954</td>\n",
       "      <td>0.827377</td>\n",
       "      <td>-0.355242</td>\n",
       "      <td>0.811922</td>\n",
       "      <td>0.585954</td>\n",
       "      <td>-0.789272</td>\n",
       "      <td>0.811922</td>\n",
       "    </tr>\n",
       "    <tr>\n",
       "      <th>...</th>\n",
       "      <td>...</td>\n",
       "      <td>...</td>\n",
       "      <td>...</td>\n",
       "      <td>...</td>\n",
       "      <td>...</td>\n",
       "      <td>...</td>\n",
       "      <td>...</td>\n",
       "      <td>...</td>\n",
       "      <td>...</td>\n",
       "      <td>...</td>\n",
       "      <td>...</td>\n",
       "      <td>...</td>\n",
       "      <td>...</td>\n",
       "    </tr>\n",
       "    <tr>\n",
       "      <th>835</th>\n",
       "      <td>-1.566107</td>\n",
       "      <td>-1.355574</td>\n",
       "      <td>1.082142</td>\n",
       "      <td>1.185039</td>\n",
       "      <td>0.0</td>\n",
       "      <td>2.031623</td>\n",
       "      <td>-1.942303</td>\n",
       "      <td>-1.566107</td>\n",
       "      <td>1.328379</td>\n",
       "      <td>-1.231645</td>\n",
       "      <td>-1.942303</td>\n",
       "      <td>1.266990</td>\n",
       "      <td>-1.231645</td>\n",
       "    </tr>\n",
       "    <tr>\n",
       "      <th>192</th>\n",
       "      <td>0.827377</td>\n",
       "      <td>-1.355574</td>\n",
       "      <td>-0.917005</td>\n",
       "      <td>1.185039</td>\n",
       "      <td>0.0</td>\n",
       "      <td>-0.791036</td>\n",
       "      <td>0.585954</td>\n",
       "      <td>0.827377</td>\n",
       "      <td>1.328379</td>\n",
       "      <td>-1.231645</td>\n",
       "      <td>0.585954</td>\n",
       "      <td>1.266990</td>\n",
       "      <td>-1.231645</td>\n",
       "    </tr>\n",
       "    <tr>\n",
       "      <th>629</th>\n",
       "      <td>0.827377</td>\n",
       "      <td>0.737695</td>\n",
       "      <td>0.182526</td>\n",
       "      <td>-0.664120</td>\n",
       "      <td>0.0</td>\n",
       "      <td>-0.796942</td>\n",
       "      <td>-0.678175</td>\n",
       "      <td>0.827377</td>\n",
       "      <td>-0.355242</td>\n",
       "      <td>0.811922</td>\n",
       "      <td>-0.678175</td>\n",
       "      <td>-0.789272</td>\n",
       "      <td>0.811922</td>\n",
       "    </tr>\n",
       "    <tr>\n",
       "      <th>559</th>\n",
       "      <td>0.827377</td>\n",
       "      <td>-1.355574</td>\n",
       "      <td>0.782270</td>\n",
       "      <td>1.185039</td>\n",
       "      <td>0.0</td>\n",
       "      <td>-0.324708</td>\n",
       "      <td>0.585954</td>\n",
       "      <td>0.827377</td>\n",
       "      <td>1.328379</td>\n",
       "      <td>-1.231645</td>\n",
       "      <td>0.585954</td>\n",
       "      <td>1.266990</td>\n",
       "      <td>-1.231645</td>\n",
       "    </tr>\n",
       "    <tr>\n",
       "      <th>684</th>\n",
       "      <td>-0.369365</td>\n",
       "      <td>0.737695</td>\n",
       "      <td>1.332036</td>\n",
       "      <td>1.185039</td>\n",
       "      <td>0.0</td>\n",
       "      <td>0.730488</td>\n",
       "      <td>0.585954</td>\n",
       "      <td>-0.369365</td>\n",
       "      <td>-0.355242</td>\n",
       "      <td>0.811922</td>\n",
       "      <td>0.585954</td>\n",
       "      <td>-0.789272</td>\n",
       "      <td>-1.231645</td>\n",
       "    </tr>\n",
       "  </tbody>\n",
       "</table>\n",
       "<p>712 rows × 13 columns</p>\n",
       "</div>"
      ],
      "text/plain": [
       "       pclass       sex       age     sibsp  parch      fare  embarked  \\\n",
       "140  0.827377 -1.355574  0.182526 -0.664120    0.0 -0.429944 -1.942303   \n",
       "439 -0.369365  0.737695  0.282483 -0.664120    0.0 -0.661785  0.585954   \n",
       "817 -0.369365  0.737695  0.282483  1.185039    0.0  0.632990 -1.942303   \n",
       "378  0.827377  0.737695 -0.817048 -0.664120    0.0 -0.978710 -1.942303   \n",
       "491  0.827377  0.737695 -0.717090 -0.664120    0.0 -0.820552  0.585954   \n",
       "..        ...       ...       ...       ...    ...       ...       ...   \n",
       "835 -1.566107 -1.355574  1.082142  1.185039    0.0  2.031623 -1.942303   \n",
       "192  0.827377 -1.355574 -0.917005  1.185039    0.0 -0.791036  0.585954   \n",
       "629  0.827377  0.737695  0.182526 -0.664120    0.0 -0.796942 -0.678175   \n",
       "559  0.827377 -1.355574  0.782270  1.185039    0.0 -0.324708  0.585954   \n",
       "684 -0.369365  0.737695  1.332036  1.185039    0.0  0.730488  0.585954   \n",
       "\n",
       "        class       who  adult_male  embark_town     alive     alone  \n",
       "140  0.827377  1.328379   -1.231645    -1.942303 -0.789272 -1.231645  \n",
       "439 -0.369365 -0.355242    0.811922     0.585954 -0.789272  0.811922  \n",
       "817 -0.369365 -0.355242    0.811922    -1.942303 -0.789272 -1.231645  \n",
       "378  0.827377 -0.355242    0.811922    -1.942303 -0.789272  0.811922  \n",
       "491  0.827377 -0.355242    0.811922     0.585954 -0.789272  0.811922  \n",
       "..        ...       ...         ...          ...       ...       ...  \n",
       "835 -1.566107  1.328379   -1.231645    -1.942303  1.266990 -1.231645  \n",
       "192  0.827377  1.328379   -1.231645     0.585954  1.266990 -1.231645  \n",
       "629  0.827377 -0.355242    0.811922    -0.678175 -0.789272  0.811922  \n",
       "559  0.827377  1.328379   -1.231645     0.585954  1.266990 -1.231645  \n",
       "684 -0.369365 -0.355242    0.811922     0.585954 -0.789272 -1.231645  \n",
       "\n",
       "[712 rows x 13 columns]"
      ]
     },
     "execution_count": 59,
     "metadata": {},
     "output_type": "execute_result"
    }
   ],
   "source": [
    "x_train"
   ]
  },
  {
   "cell_type": "code",
   "execution_count": 60,
   "metadata": {
    "colab": {
     "base_uri": "https://localhost:8080/",
     "height": 423
    },
    "executionInfo": {
     "elapsed": 6,
     "status": "ok",
     "timestamp": 1685249379149,
     "user": {
      "displayName": "Kapil",
      "userId": "17476189774344634490"
     },
     "user_tz": -330
    },
    "id": "xFdOm5qzsLCf",
    "outputId": "fd0cdc47-f1ba-4191-8813-13f9919fc5d7"
   },
   "outputs": [
    {
     "data": {
      "text/html": [
       "<div>\n",
       "<style scoped>\n",
       "    .dataframe tbody tr th:only-of-type {\n",
       "        vertical-align: middle;\n",
       "    }\n",
       "\n",
       "    .dataframe tbody tr th {\n",
       "        vertical-align: top;\n",
       "    }\n",
       "\n",
       "    .dataframe thead th {\n",
       "        text-align: right;\n",
       "    }\n",
       "</style>\n",
       "<table border=\"1\" class=\"dataframe\">\n",
       "  <thead>\n",
       "    <tr style=\"text-align: right;\">\n",
       "      <th></th>\n",
       "      <th>pclass</th>\n",
       "      <th>sex</th>\n",
       "      <th>age</th>\n",
       "      <th>sibsp</th>\n",
       "      <th>parch</th>\n",
       "      <th>fare</th>\n",
       "      <th>embarked</th>\n",
       "      <th>class</th>\n",
       "      <th>who</th>\n",
       "      <th>adult_male</th>\n",
       "      <th>embark_town</th>\n",
       "      <th>alive</th>\n",
       "      <th>alone</th>\n",
       "    </tr>\n",
       "  </thead>\n",
       "  <tbody>\n",
       "    <tr>\n",
       "      <th>495</th>\n",
       "      <td>0.827377</td>\n",
       "      <td>0.737695</td>\n",
       "      <td>0.182526</td>\n",
       "      <td>-0.664120</td>\n",
       "      <td>0.0</td>\n",
       "      <td>-0.468415</td>\n",
       "      <td>-1.942303</td>\n",
       "      <td>0.827377</td>\n",
       "      <td>-0.355242</td>\n",
       "      <td>0.811922</td>\n",
       "      <td>-1.942303</td>\n",
       "      <td>-0.789272</td>\n",
       "      <td>0.811922</td>\n",
       "    </tr>\n",
       "    <tr>\n",
       "      <th>648</th>\n",
       "      <td>0.827377</td>\n",
       "      <td>0.737695</td>\n",
       "      <td>0.182526</td>\n",
       "      <td>-0.664120</td>\n",
       "      <td>0.0</td>\n",
       "      <td>-0.805897</td>\n",
       "      <td>0.585954</td>\n",
       "      <td>0.827377</td>\n",
       "      <td>-0.355242</td>\n",
       "      <td>0.811922</td>\n",
       "      <td>0.585954</td>\n",
       "      <td>-0.789272</td>\n",
       "      <td>0.811922</td>\n",
       "    </tr>\n",
       "    <tr>\n",
       "      <th>278</th>\n",
       "      <td>0.827377</td>\n",
       "      <td>0.737695</td>\n",
       "      <td>-2.116493</td>\n",
       "      <td>2.109618</td>\n",
       "      <td>0.0</td>\n",
       "      <td>0.248078</td>\n",
       "      <td>-0.678175</td>\n",
       "      <td>0.827377</td>\n",
       "      <td>-2.038863</td>\n",
       "      <td>-1.231645</td>\n",
       "      <td>-0.678175</td>\n",
       "      <td>-0.789272</td>\n",
       "      <td>-1.231645</td>\n",
       "    </tr>\n",
       "    <tr>\n",
       "      <th>31</th>\n",
       "      <td>-1.566107</td>\n",
       "      <td>-1.355574</td>\n",
       "      <td>0.182526</td>\n",
       "      <td>1.185039</td>\n",
       "      <td>0.0</td>\n",
       "      <td>2.031623</td>\n",
       "      <td>-1.942303</td>\n",
       "      <td>-1.566107</td>\n",
       "      <td>1.328379</td>\n",
       "      <td>-1.231645</td>\n",
       "      <td>-1.942303</td>\n",
       "      <td>1.266990</td>\n",
       "      <td>-1.231645</td>\n",
       "    </tr>\n",
       "    <tr>\n",
       "      <th>255</th>\n",
       "      <td>0.827377</td>\n",
       "      <td>-1.355574</td>\n",
       "      <td>0.082569</td>\n",
       "      <td>-0.664120</td>\n",
       "      <td>0.0</td>\n",
       "      <td>-0.429944</td>\n",
       "      <td>-1.942303</td>\n",
       "      <td>0.827377</td>\n",
       "      <td>1.328379</td>\n",
       "      <td>-1.231645</td>\n",
       "      <td>-1.942303</td>\n",
       "      <td>1.266990</td>\n",
       "      <td>-1.231645</td>\n",
       "    </tr>\n",
       "    <tr>\n",
       "      <th>...</th>\n",
       "      <td>...</td>\n",
       "      <td>...</td>\n",
       "      <td>...</td>\n",
       "      <td>...</td>\n",
       "      <td>...</td>\n",
       "      <td>...</td>\n",
       "      <td>...</td>\n",
       "      <td>...</td>\n",
       "      <td>...</td>\n",
       "      <td>...</td>\n",
       "      <td>...</td>\n",
       "      <td>...</td>\n",
       "      <td>...</td>\n",
       "    </tr>\n",
       "    <tr>\n",
       "      <th>780</th>\n",
       "      <td>0.827377</td>\n",
       "      <td>-1.355574</td>\n",
       "      <td>-1.516749</td>\n",
       "      <td>-0.664120</td>\n",
       "      <td>0.0</td>\n",
       "      <td>-0.821569</td>\n",
       "      <td>-1.942303</td>\n",
       "      <td>0.827377</td>\n",
       "      <td>-2.038863</td>\n",
       "      <td>-1.231645</td>\n",
       "      <td>-1.942303</td>\n",
       "      <td>1.266990</td>\n",
       "      <td>0.811922</td>\n",
       "    </tr>\n",
       "    <tr>\n",
       "      <th>837</th>\n",
       "      <td>0.827377</td>\n",
       "      <td>0.737695</td>\n",
       "      <td>0.182526</td>\n",
       "      <td>-0.664120</td>\n",
       "      <td>0.0</td>\n",
       "      <td>-0.781471</td>\n",
       "      <td>0.585954</td>\n",
       "      <td>0.827377</td>\n",
       "      <td>-0.355242</td>\n",
       "      <td>0.811922</td>\n",
       "      <td>0.585954</td>\n",
       "      <td>-0.789272</td>\n",
       "      <td>0.811922</td>\n",
       "    </tr>\n",
       "    <tr>\n",
       "      <th>215</th>\n",
       "      <td>-1.566107</td>\n",
       "      <td>-1.355574</td>\n",
       "      <td>0.282483</td>\n",
       "      <td>1.185039</td>\n",
       "      <td>0.0</td>\n",
       "      <td>2.031623</td>\n",
       "      <td>-1.942303</td>\n",
       "      <td>-1.566107</td>\n",
       "      <td>1.328379</td>\n",
       "      <td>-1.231645</td>\n",
       "      <td>-1.942303</td>\n",
       "      <td>1.266990</td>\n",
       "      <td>-1.231645</td>\n",
       "    </tr>\n",
       "    <tr>\n",
       "      <th>833</th>\n",
       "      <td>0.827377</td>\n",
       "      <td>0.737695</td>\n",
       "      <td>-0.517176</td>\n",
       "      <td>-0.664120</td>\n",
       "      <td>0.0</td>\n",
       "      <td>-0.791036</td>\n",
       "      <td>0.585954</td>\n",
       "      <td>0.827377</td>\n",
       "      <td>-0.355242</td>\n",
       "      <td>0.811922</td>\n",
       "      <td>0.585954</td>\n",
       "      <td>-0.789272</td>\n",
       "      <td>0.811922</td>\n",
       "    </tr>\n",
       "    <tr>\n",
       "      <th>372</th>\n",
       "      <td>0.827377</td>\n",
       "      <td>0.737695</td>\n",
       "      <td>-0.917005</td>\n",
       "      <td>-0.664120</td>\n",
       "      <td>0.0</td>\n",
       "      <td>-0.781471</td>\n",
       "      <td>0.585954</td>\n",
       "      <td>0.827377</td>\n",
       "      <td>-0.355242</td>\n",
       "      <td>0.811922</td>\n",
       "      <td>0.585954</td>\n",
       "      <td>-0.789272</td>\n",
       "      <td>0.811922</td>\n",
       "    </tr>\n",
       "  </tbody>\n",
       "</table>\n",
       "<p>179 rows × 13 columns</p>\n",
       "</div>"
      ],
      "text/plain": [
       "       pclass       sex       age     sibsp  parch      fare  embarked  \\\n",
       "495  0.827377  0.737695  0.182526 -0.664120    0.0 -0.468415 -1.942303   \n",
       "648  0.827377  0.737695  0.182526 -0.664120    0.0 -0.805897  0.585954   \n",
       "278  0.827377  0.737695 -2.116493  2.109618    0.0  0.248078 -0.678175   \n",
       "31  -1.566107 -1.355574  0.182526  1.185039    0.0  2.031623 -1.942303   \n",
       "255  0.827377 -1.355574  0.082569 -0.664120    0.0 -0.429944 -1.942303   \n",
       "..        ...       ...       ...       ...    ...       ...       ...   \n",
       "780  0.827377 -1.355574 -1.516749 -0.664120    0.0 -0.821569 -1.942303   \n",
       "837  0.827377  0.737695  0.182526 -0.664120    0.0 -0.781471  0.585954   \n",
       "215 -1.566107 -1.355574  0.282483  1.185039    0.0  2.031623 -1.942303   \n",
       "833  0.827377  0.737695 -0.517176 -0.664120    0.0 -0.791036  0.585954   \n",
       "372  0.827377  0.737695 -0.917005 -0.664120    0.0 -0.781471  0.585954   \n",
       "\n",
       "        class       who  adult_male  embark_town     alive     alone  \n",
       "495  0.827377 -0.355242    0.811922    -1.942303 -0.789272  0.811922  \n",
       "648  0.827377 -0.355242    0.811922     0.585954 -0.789272  0.811922  \n",
       "278  0.827377 -2.038863   -1.231645    -0.678175 -0.789272 -1.231645  \n",
       "31  -1.566107  1.328379   -1.231645    -1.942303  1.266990 -1.231645  \n",
       "255  0.827377  1.328379   -1.231645    -1.942303  1.266990 -1.231645  \n",
       "..        ...       ...         ...          ...       ...       ...  \n",
       "780  0.827377 -2.038863   -1.231645    -1.942303  1.266990  0.811922  \n",
       "837  0.827377 -0.355242    0.811922     0.585954 -0.789272  0.811922  \n",
       "215 -1.566107  1.328379   -1.231645    -1.942303  1.266990 -1.231645  \n",
       "833  0.827377 -0.355242    0.811922     0.585954 -0.789272  0.811922  \n",
       "372  0.827377 -0.355242    0.811922     0.585954 -0.789272  0.811922  \n",
       "\n",
       "[179 rows x 13 columns]"
      ]
     },
     "execution_count": 60,
     "metadata": {},
     "output_type": "execute_result"
    }
   ],
   "source": [
    "x_test"
   ]
  },
  {
   "cell_type": "code",
   "execution_count": 61,
   "metadata": {
    "colab": {
     "base_uri": "https://localhost:8080/"
    },
    "executionInfo": {
     "elapsed": 387,
     "status": "ok",
     "timestamp": 1685249405385,
     "user": {
      "displayName": "Kapil",
      "userId": "17476189774344634490"
     },
     "user_tz": -330
    },
    "id": "z13IHcwisMWe",
    "outputId": "62688464-f9a1-45c0-f641-a134e49a975e"
   },
   "outputs": [
    {
     "data": {
      "text/plain": [
       "140    0\n",
       "439    0\n",
       "817    0\n",
       "378    0\n",
       "491    0\n",
       "      ..\n",
       "835    1\n",
       "192    1\n",
       "629    0\n",
       "559    1\n",
       "684    0\n",
       "Name: survived, Length: 712, dtype: int64"
      ]
     },
     "execution_count": 61,
     "metadata": {},
     "output_type": "execute_result"
    }
   ],
   "source": [
    "y_train"
   ]
  },
  {
   "cell_type": "code",
   "execution_count": 62,
   "metadata": {
    "colab": {
     "base_uri": "https://localhost:8080/"
    },
    "executionInfo": {
     "elapsed": 394,
     "status": "ok",
     "timestamp": 1685249412064,
     "user": {
      "displayName": "Kapil",
      "userId": "17476189774344634490"
     },
     "user_tz": -330
    },
    "id": "wWj-eAZSsSzq",
    "outputId": "5cccb746-48d0-48bd-eae2-2cbb8fd3dc42"
   },
   "outputs": [
    {
     "data": {
      "text/plain": [
       "495    0\n",
       "648    0\n",
       "278    0\n",
       "31     1\n",
       "255    1\n",
       "      ..\n",
       "780    1\n",
       "837    0\n",
       "215    1\n",
       "833    0\n",
       "372    0\n",
       "Name: survived, Length: 179, dtype: int64"
      ]
     },
     "execution_count": 62,
     "metadata": {},
     "output_type": "execute_result"
    }
   ],
   "source": [
    "y_test"
   ]
  }
 ],
 "metadata": {
  "colab": {
   "authorship_tag": "ABX9TyMjqYOjuP7mfo+DV9jVvuCZ",
   "provenance": []
  },
  "kernelspec": {
   "display_name": "Python 3 (ipykernel)",
   "language": "python",
   "name": "python3"
  },
  "language_info": {
   "codemirror_mode": {
    "name": "ipython",
    "version": 3
   },
   "file_extension": ".py",
   "mimetype": "text/x-python",
   "name": "python",
   "nbconvert_exporter": "python",
   "pygments_lexer": "ipython3",
   "version": "3.10.9"
  }
 },
 "nbformat": 4,
 "nbformat_minor": 1
}
